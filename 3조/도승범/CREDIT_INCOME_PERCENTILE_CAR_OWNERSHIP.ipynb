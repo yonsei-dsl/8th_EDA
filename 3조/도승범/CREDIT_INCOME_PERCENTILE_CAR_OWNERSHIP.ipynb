{
 "cells": [
  {
   "cell_type": "markdown",
   "id": "fd43eaf6",
   "metadata": {},
   "source": [
    "# 1 SETTING"
   ]
  },
  {
   "cell_type": "markdown",
   "id": "95a5974b",
   "metadata": {},
   "source": [
    "## 1 LIBRARIES"
   ]
  },
  {
   "cell_type": "code",
   "execution_count": 8,
   "id": "264d77fd",
   "metadata": {},
   "outputs": [],
   "source": [
    "import pandas as pd\n",
    "import numpy as np\n",
    "import matplotlib.pyplot as plt\n",
    "import math"
   ]
  },
  {
   "cell_type": "markdown",
   "id": "3e23a6ed",
   "metadata": {},
   "source": [
    "## 2 DATA"
   ]
  },
  {
   "cell_type": "code",
   "execution_count": 19,
   "id": "5367bb05",
   "metadata": {},
   "outputs": [
    {
     "name": "stdout",
     "output_type": "stream",
     "text": [
      "   index gender car reality  child_num  income_total           income_type  \\\n",
      "0      0      F   N       N          0      202500.0  Commercial associate   \n",
      "1      1      F   N       Y          1      247500.0  Commercial associate   \n",
      "2      2      M   Y       Y          0      450000.0               Working   \n",
      "3      3      F   N       Y          0      202500.0  Commercial associate   \n",
      "4      4      F   Y       Y          0      157500.0         State servant   \n",
      "\n",
      "                        edu_type     family_type           house_type  \\\n",
      "0               Higher education         Married  Municipal apartment   \n",
      "1  Secondary / secondary special  Civil marriage    House / apartment   \n",
      "2               Higher education         Married    House / apartment   \n",
      "3  Secondary / secondary special         Married    House / apartment   \n",
      "4               Higher education         Married    House / apartment   \n",
      "\n",
      "   DAYS_BIRTH  DAYS_EMPLOYED  FLAG_MOBIL  work_phone  phone  email  \\\n",
      "0      -13899          -4709           1           0      0      0   \n",
      "1      -11380          -1540           1           0      0      1   \n",
      "2      -19087          -4434           1           0      1      0   \n",
      "3      -15088          -2092           1           0      1      0   \n",
      "4      -15037          -2105           1           0      0      0   \n",
      "\n",
      "    occyp_type  family_size  begin_month  credit  \n",
      "0          NaN            2           -6       1  \n",
      "1     Laborers            3           -5       1  \n",
      "2     Managers            2          -22       2  \n",
      "3  Sales staff            2          -37       0  \n",
      "4     Managers            2          -26       2  \n"
     ]
    }
   ],
   "source": [
    "data = pd.read_excel(\"C:/Users/sec/Desktop/DSL/EDA2022-2/open/train.xlsx\")\n",
    "print(data.head())"
   ]
  },
  {
   "cell_type": "markdown",
   "id": "1e542815",
   "metadata": {},
   "source": [
    "## 3 CLEANING"
   ]
  },
  {
   "cell_type": "code",
   "execution_count": 20,
   "id": "ddc3bf63",
   "metadata": {},
   "outputs": [
    {
     "name": "stdout",
     "output_type": "stream",
     "text": [
      "22724\n"
     ]
    }
   ],
   "source": [
    "#if employed = 365243, non-employed\n",
    "\n",
    "data.loc[data['DAYS_EMPLOYED'] == 365243, 'DAYS_EMPLOYED'] = 0\n",
    "\n",
    "#(-1)\n",
    "\n",
    "data['DAYS_BIRTH'] = (-1) * data['DAYS_BIRTH']\n",
    "data['DAYS_EMPLOYED'] = (-1) * data['DAYS_EMPLOYED']\n",
    "data['begin_month'] = (-1) * data['begin_month']\n",
    "\n",
    "#NaN: 8171 na values only of occyp_type but # of unemployed is 4438 < 8171\n",
    "\n",
    "ind_drop = (data[(data['DAYS_EMPLOYED'] != 0) & (data['occyp_type'].isna() == True)]).index\n",
    "data = data.drop(ind_drop)\n",
    "print(len(data))"
   ]
  },
  {
   "cell_type": "code",
   "execution_count": 21,
   "id": "74ea48a5",
   "metadata": {},
   "outputs": [
    {
     "name": "stdout",
     "output_type": "stream",
     "text": [
      "count    22724.000000\n",
      "mean         0.378102\n",
      "std          0.484924\n",
      "min          0.000000\n",
      "25%          0.000000\n",
      "50%          0.000000\n",
      "75%          1.000000\n",
      "max          1.000000\n",
      "Name: car, dtype: float64\n",
      "count    22724.000000\n",
      "mean         0.680470\n",
      "std          0.466305\n",
      "min          0.000000\n",
      "25%          0.000000\n",
      "50%          1.000000\n",
      "75%          1.000000\n",
      "max          1.000000\n",
      "Name: reality, dtype: float64\n"
     ]
    }
   ],
   "source": [
    "#Car\n",
    "\n",
    "data.loc[data['car'] == 'Y', 'car'] = float(1)\n",
    "data.loc[data['car'] == 'N', 'car'] = float(0)\n",
    "data['car'] = pd.to_numeric(data['car'])\n",
    "print(data['car'].describe())\n",
    "\n",
    "#Reaility\n",
    "\n",
    "data.loc[data['reality'] == 'Y', 'reality'] = float(1)\n",
    "data.loc[data['reality'] == 'N', 'reality'] = float(0)\n",
    "data['reality'] = pd.to_numeric(data['reality'])\n",
    "print(data['reality'].describe())"
   ]
  },
  {
   "cell_type": "code",
   "execution_count": 40,
   "id": "c7ac6b4a",
   "metadata": {},
   "outputs": [
    {
     "name": "stdout",
     "output_type": "stream",
     "text": [
      "count    22724.000000\n",
      "mean         5.273015\n",
      "std          2.932324\n",
      "min          1.000000\n",
      "25%          3.000000\n",
      "50%          5.000000\n",
      "75%          8.000000\n",
      "max         10.000000\n",
      "Name: income_percentile, dtype: float64\n"
     ]
    }
   ],
   "source": [
    "#Income percentile\n",
    "\n",
    "data.loc[data['income_total'] <= data['income_total'].quantile(0.1), 'income_percentile'] = 1\n",
    "\n",
    "data.loc[(data['income_total'] > data['income_total'].quantile(0.1)) & \n",
    "         (data['income_total'] <= data['income_total'].quantile(0.2)), 'income_percentile'] = 2\n",
    "\n",
    "data.loc[(data['income_total'] > data['income_total'].quantile(0.2)) & \n",
    "         (data['income_total'] <= data['income_total'].quantile(0.3)), 'income_percentile'] = 3\n",
    "\n",
    "data.loc[(data['income_total'] > data['income_total'].quantile(0.3)) & \n",
    "         (data['income_total'] <= data['income_total'].quantile(0.4)), 'income_percentile'] = 4\n",
    "\n",
    "data.loc[(data['income_total'] > data['income_total'].quantile(0.4)) & \n",
    "         (data['income_total'] <= data['income_total'].quantile(0.5)), 'income_percentile'] = 5\n",
    "\n",
    "data.loc[(data['income_total'] > data['income_total'].quantile(0.5)) & \n",
    "         (data['income_total'] <= data['income_total'].quantile(0.6)), 'income_percentile'] = 6\n",
    "\n",
    "data.loc[(data['income_total'] > data['income_total'].quantile(0.6)) & \n",
    "         (data['income_total'] <= data['income_total'].quantile(0.7)), 'income_percentile'] = 7\n",
    "\n",
    "data.loc[(data['income_total'] > data['income_total'].quantile(0.7)) & \n",
    "         (data['income_total'] <= data['income_total'].quantile(0.8)), 'income_percentile'] = 8\n",
    "\n",
    "data.loc[(data['income_total'] > data['income_total'].quantile(0.8)) & \n",
    "         (data['income_total'] <= data['income_total'].quantile(0.9)), 'income_percentile'] = 9\n",
    "\n",
    "data.loc[data['income_total'] > data['income_total'].quantile(0.9), 'income_percentile'] = 10\n",
    "\n",
    "print(data['income_percentile'].describe())\n"
   ]
  },
  {
   "cell_type": "markdown",
   "id": "6de56981",
   "metadata": {},
   "source": [
    "# 2 CREIDT, INCOME PERCENTILE, CAR"
   ]
  },
  {
   "cell_type": "code",
   "execution_count": 41,
   "id": "c782885a",
   "metadata": {},
   "outputs": [
    {
     "data": {
      "text/plain": [
       "Text(0.5, 1.0, 'Average Credit Level VS Income Percentile')"
      ]
     },
     "execution_count": 41,
     "metadata": {},
     "output_type": "execute_result"
    },
    {
     "data": {
      "image/png": "[encoded data removed]",
      "text/plain": [
       "<Figure size 432x288 with 1 Axes>"
      ]
     },
     "metadata": {
      "needs_background": "light"
     },
     "output_type": "display_data"
    }
   ],
   "source": [
    "data.groupby('income_percentile')['credit'].mean().plot(kind = 'bar')\n",
    "plt.ylim(1.2, 1.7)\n",
    "plt.xlabel('income percentile')\n",
    "plt.ylabel('average credit level')\n",
    "plt.title('Average Credit Level VS Income Percentile')"
   ]
  },
  {
   "cell_type": "code",
   "execution_count": 42,
   "id": "0f01cc49",
   "metadata": {},
   "outputs": [
    {
     "data": {
      "text/plain": [
       "Text(0.5, 1.0, 'Probability of owning house VS Income Percentile')"
      ]
     },
     "execution_count": 42,
     "metadata": {},
     "output_type": "execute_result"
    },
    {
     "data": {
      "image/png": "[encoded data removed]",
      "text/plain": [
       "<Figure size 432x288 with 1 Axes>"
      ]
     },
     "metadata": {
      "needs_background": "light"
     },
     "output_type": "display_data"
    }
   ],
   "source": [
    "data.groupby('income_percentile')['reality'].mean().plot(kind = 'bar')\n",
    "plt.ylim(0.2, 1)\n",
    "plt.xlabel('income percentile')\n",
    "plt.ylabel('Probability of owning house')\n",
    "plt.title('Probability of owning house VS Income Percentile')"
   ]
  },
  {
   "cell_type": "code",
   "execution_count": 43,
   "id": "a8f451c1",
   "metadata": {},
   "outputs": [
    {
     "data": {
      "text/plain": [
       "Text(0.5, 1.0, 'Probability of owning car VS Income Percentile')"
      ]
     },
     "execution_count": 43,
     "metadata": {},
     "output_type": "execute_result"
    },
    {
     "data": {
      "image/png": "[encoded data removed]",
      "text/plain": [
       "<Figure size 432x288 with 1 Axes>"
      ]
     },
     "metadata": {
      "needs_background": "light"
     },
     "output_type": "display_data"
    }
   ],
   "source": [
    "data.groupby('income_percentile')['car'].mean().plot(kind = 'bar')\n",
    "plt.ylim(0, 0.8)\n",
    "plt.xlabel('income percentile')\n",
    "plt.ylabel('Probability of owning car')\n",
    "plt.title('Probability of owning car VS Income Percentile')"
   ]
  },
  {
   "cell_type": "code",
   "execution_count": 46,
   "id": "97078ed2",
   "metadata": {},
   "outputs": [
    {
     "name": "stdout",
     "output_type": "stream",
     "text": [
      "income_percentile  car\n",
      "1.0                0.0    1.519345\n",
      "                   1.0    1.545133\n",
      "2.0                0.0    1.502444\n",
      "                   1.0    1.536212\n",
      "3.0                0.0    1.493254\n",
      "                   1.0    1.541039\n",
      "4.0                0.0    1.681818\n",
      "                   1.0    1.562500\n",
      "5.0                0.0    1.507544\n",
      "                   1.0    1.423940\n",
      "6.0                0.0    1.475741\n",
      "                   1.0    1.555195\n",
      "7.0                0.0    1.519647\n",
      "                   1.0    1.544489\n",
      "8.0                0.0    1.593207\n",
      "                   1.0    1.522031\n",
      "9.0                0.0    1.479634\n",
      "                   1.0    1.491486\n",
      "10.0               0.0    1.530461\n",
      "                   1.0    1.571429\n",
      "Name: credit, dtype: float64\n"
     ]
    },
    {
     "data": {
      "text/plain": [
       "(1.2, 1.8)"
      ]
     },
     "execution_count": 46,
     "metadata": {},
     "output_type": "execute_result"
    },
    {
     "data": {
      "image/png": "[encoded data removed]",
      "text/plain": [
       "<Figure size 432x288 with 1 Axes>"
      ]
     },
     "metadata": {
      "needs_background": "light"
     },
     "output_type": "display_data"
    }
   ],
   "source": [
    "print(data.groupby(['income_percentile', 'car'])['credit'].mean())\n",
    "\n",
    "data.groupby(['income_percentile', 'car'])['credit'].mean().unstack().plot(kind='bar')\n",
    "plt.xlabel('income percentile and car ownership')\n",
    "plt.ylabel('average credit level')\n",
    "plt.title('Credit Level VS Income and Car Ownership')\n",
    "plt.ylim(1.2,1.8)"
   ]
  },
  {
   "cell_type": "code",
   "execution_count": null,
   "id": "8020e0fb",
   "metadata": {},
   "outputs": [],
   "source": []
  }
 ],
 "metadata": {
  "kernelspec": {
   "display_name": "Python 3",
   "language": "python",
   "name": "python3"
  },
  "language_info": {
   "codemirror_mode": {
    "name": "ipython",
    "version": 3
   },
   "file_extension": ".py",
   "mimetype": "text/x-python",
   "name": "python",
   "nbconvert_exporter": "python",
   "pygments_lexer": "ipython3",
   "version": "3.8.8"
  },
  "toc": {
   "base_numbering": 1,
   "nav_menu": {},
   "number_sections": true,
   "sideBar": true,
   "skip_h1_title": false,
   "title_cell": "Table of Contents",
   "title_sidebar": "Contents",
   "toc_cell": false,
   "toc_position": {},
   "toc_section_display": true,
   "toc_window_display": false
  }
 },
 "nbformat": 4,
 "nbformat_minor": 5
}
