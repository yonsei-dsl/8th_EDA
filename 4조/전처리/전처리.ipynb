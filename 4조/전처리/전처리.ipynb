{
  "cells": [
    {
      "cell_type": "markdown",
      "source": [
        "제가 해 본 과정이고, 코드는 당연히 사람마다 모두 다를 수 있습니다! 결과물이 같다면, 참고만 해주시면 됩니다 :)"
      ],
      "metadata": {
        "id": "Fe3sLpxjrgjW"
      }
    },
    {
      "cell_type": "code",
      "execution_count": null,
      "metadata": {
        "id": "NuogZdJAewSq"
      },
      "outputs": [],
      "source": [
        "import numpy as np\n",
        "import pandas as pd"
      ]
    },
    {
      "cell_type": "code",
      "execution_count": null,
      "metadata": {
        "colab": {
          "base_uri": "https://localhost:8080/"
        },
        "id": "7J7wP7X6nQtv",
        "outputId": "f8771b02-d59f-47f1-d803-36ef13bd6429"
      },
      "outputs": [
        {
          "output_type": "stream",
          "name": "stdout",
          "text": [
            "Mounted at /content/drive\n"
          ]
        }
      ],
      "source": [
        "# 구글 코랩 사용시\n",
        "from google.colab import drive\n",
        "drive.mount('/content/drive')"
      ]
    },
    {
      "cell_type": "markdown",
      "metadata": {
        "id": "794PhZwlj8_Y"
      },
      "source": [
        "## 1. 데이터 불러오기"
      ]
    },
    {
      "cell_type": "markdown",
      "source": [
        "1) category_name.csv 파일과 KR_youtube_trending_data.csv 파일을 각각 불러오기"
      ],
      "metadata": {
        "id": "aRc2Bwt2Y6s9"
      }
    },
    {
      "cell_type": "code",
      "source": [
        "cat = pd.read_csv(\"/content/drive/MyDrive/EDA/data0712/category_name.csv\")\n",
        "# 파일이 저장된 주소로부터 불러오기"
      ],
      "metadata": {
        "id": "jR0x_i7vHzGY"
      },
      "execution_count": null,
      "outputs": []
    },
    {
      "cell_type": "code",
      "source": [
        "cat.head() # 자료 확인"
      ],
      "metadata": {
        "colab": {
          "base_uri": "https://localhost:8080/",
          "height": 206
        },
        "id": "I8jIiQvMH4cX",
        "outputId": "09be5c04-1f6e-4cd2-978c-6deced8c60ed"
      },
      "execution_count": null,
      "outputs": [
        {
          "output_type": "execute_result",
          "data": {
            "text/plain": [
              "                    kind                         etag  id     snippet.title  \\\n",
              "0  youtube#videoCategory  IfWa37JGcqZs-jZeAyFGkbeh6bc   1  Film & Animation   \n",
              "1  youtube#videoCategory  5XGylIs7zkjHh5940dsT5862m1Y   2  Autos & Vehicles   \n",
              "2  youtube#videoCategory  HCjFMARbBeWjpm6PDfReCOMOZGA  10             Music   \n",
              "3  youtube#videoCategory  ra8H7xyAfmE2FewsDabE3TUSq10  15    Pets & Animals   \n",
              "4  youtube#videoCategory  7mqChSJogdF3hSIL-88BfDE-W8M  17            Sports   \n",
              "\n",
              "   snippet.assignable         snippet.channelId  \n",
              "0                True  UCBR8-60-B28hp2BmDPdntcQ  \n",
              "1                True  UCBR8-60-B28hp2BmDPdntcQ  \n",
              "2                True  UCBR8-60-B28hp2BmDPdntcQ  \n",
              "3                True  UCBR8-60-B28hp2BmDPdntcQ  \n",
              "4                True  UCBR8-60-B28hp2BmDPdntcQ  "
            ],
            "text/html": [
              "\n",
              "  <div id=\"df-50d2fe30-f822-4ae9-92f6-a74d96a7e602\">\n",
              "    <div class=\"colab-df-container\">\n",
              "      <div>\n",
              "<style scoped>\n",
              "    .dataframe tbody tr th:only-of-type {\n",
              "        vertical-align: middle;\n",
              "    }\n",
              "\n",
              "    .dataframe tbody tr th {\n",
              "        vertical-align: top;\n",
              "    }\n",
              "\n",
              "    .dataframe thead th {\n",
              "        text-align: right;\n",
              "    }\n",
              "</style>\n",
              "<table border=\"1\" class=\"dataframe\">\n",
              "  <thead>\n",
              "    <tr style=\"text-align: right;\">\n",
              "      <th></th>\n",
              "      <th>kind</th>\n",
              "      <th>etag</th>\n",
              "      <th>id</th>\n",
              "      <th>snippet.title</th>\n",
              "      <th>snippet.assignable</th>\n",
              "      <th>snippet.channelId</th>\n",
              "    </tr>\n",
              "  </thead>\n",
              "  <tbody>\n",
              "    <tr>\n",
              "      <th>0</th>\n",
              "      <td>youtube#videoCategory</td>\n",
              "      <td>IfWa37JGcqZs-jZeAyFGkbeh6bc</td>\n",
              "      <td>1</td>\n",
              "      <td>Film &amp; Animation</td>\n",
              "      <td>True</td>\n",
              "      <td>UCBR8-60-B28hp2BmDPdntcQ</td>\n",
              "    </tr>\n",
              "    <tr>\n",
              "      <th>1</th>\n",
              "      <td>youtube#videoCategory</td>\n",
              "      <td>5XGylIs7zkjHh5940dsT5862m1Y</td>\n",
              "      <td>2</td>\n",
              "      <td>Autos &amp; Vehicles</td>\n",
              "      <td>True</td>\n",
              "      <td>UCBR8-60-B28hp2BmDPdntcQ</td>\n",
              "    </tr>\n",
              "    <tr>\n",
              "      <th>2</th>\n",
              "      <td>youtube#videoCategory</td>\n",
              "      <td>HCjFMARbBeWjpm6PDfReCOMOZGA</td>\n",
              "      <td>10</td>\n",
              "      <td>Music</td>\n",
              "      <td>True</td>\n",
              "      <td>UCBR8-60-B28hp2BmDPdntcQ</td>\n",
              "    </tr>\n",
              "    <tr>\n",
              "      <th>3</th>\n",
              "      <td>youtube#videoCategory</td>\n",
              "      <td>ra8H7xyAfmE2FewsDabE3TUSq10</td>\n",
              "      <td>15</td>\n",
              "      <td>Pets &amp; Animals</td>\n",
              "      <td>True</td>\n",
              "      <td>UCBR8-60-B28hp2BmDPdntcQ</td>\n",
              "    </tr>\n",
              "    <tr>\n",
              "      <th>4</th>\n",
              "      <td>youtube#videoCategory</td>\n",
              "      <td>7mqChSJogdF3hSIL-88BfDE-W8M</td>\n",
              "      <td>17</td>\n",
              "      <td>Sports</td>\n",
              "      <td>True</td>\n",
              "      <td>UCBR8-60-B28hp2BmDPdntcQ</td>\n",
              "    </tr>\n",
              "  </tbody>\n",
              "</table>\n",
              "</div>\n",
              "      <button class=\"colab-df-convert\" onclick=\"convertToInteractive('df-50d2fe30-f822-4ae9-92f6-a74d96a7e602')\"\n",
              "              title=\"Convert this dataframe to an interactive table.\"\n",
              "              style=\"display:none;\">\n",
              "        \n",
              "  <svg xmlns=\"http://www.w3.org/2000/svg\" height=\"24px\"viewBox=\"0 0 24 24\"\n",
              "       width=\"24px\">\n",
              "    <path d=\"M0 0h24v24H0V0z\" fill=\"none\"/>\n",
              "    <path d=\"M18.56 5.44l.94 2.06.94-2.06 2.06-.94-2.06-.94-.94-2.06-.94 2.06-2.06.94zm-11 1L8.5 8.5l.94-2.06 2.06-.94-2.06-.94L8.5 2.5l-.94 2.06-2.06.94zm10 10l.94 2.06.94-2.06 2.06-.94-2.06-.94-.94-2.06-.94 2.06-2.06.94z\"/><path d=\"M17.41 7.96l-1.37-1.37c-.4-.4-.92-.59-1.43-.59-.52 0-1.04.2-1.43.59L10.3 9.45l-7.72 7.72c-.78.78-.78 2.05 0 2.83L4 21.41c.39.39.9.59 1.41.59.51 0 1.02-.2 1.41-.59l7.78-7.78 2.81-2.81c.8-.78.8-2.07 0-2.86zM5.41 20L4 18.59l7.72-7.72 1.47 1.35L5.41 20z\"/>\n",
              "  </svg>\n",
              "      </button>\n",
              "      \n",
              "  <style>\n",
              "    .colab-df-container {\n",
              "      display:flex;\n",
              "      flex-wrap:wrap;\n",
              "      gap: 12px;\n",
              "    }\n",
              "\n",
              "    .colab-df-convert {\n",
              "      background-color: #E8F0FE;\n",
              "      border: none;\n",
              "      border-radius: 50%;\n",
              "      cursor: pointer;\n",
              "      display: none;\n",
              "      fill: #1967D2;\n",
              "      height: 32px;\n",
              "      padding: 0 0 0 0;\n",
              "      width: 32px;\n",
              "    }\n",
              "\n",
              "    .colab-df-convert:hover {\n",
              "      background-color: #E2EBFA;\n",
              "      box-shadow: 0px 1px 2px rgba(60, 64, 67, 0.3), 0px 1px 3px 1px rgba(60, 64, 67, 0.15);\n",
              "      fill: #174EA6;\n",
              "    }\n",
              "\n",
              "    [theme=dark] .colab-df-convert {\n",
              "      background-color: #3B4455;\n",
              "      fill: #D2E3FC;\n",
              "    }\n",
              "\n",
              "    [theme=dark] .colab-df-convert:hover {\n",
              "      background-color: #434B5C;\n",
              "      box-shadow: 0px 1px 3px 1px rgba(0, 0, 0, 0.15);\n",
              "      filter: drop-shadow(0px 1px 2px rgba(0, 0, 0, 0.3));\n",
              "      fill: #FFFFFF;\n",
              "    }\n",
              "  </style>\n",
              "\n",
              "      <script>\n",
              "        const buttonEl =\n",
              "          document.querySelector('#df-50d2fe30-f822-4ae9-92f6-a74d96a7e602 button.colab-df-convert');\n",
              "        buttonEl.style.display =\n",
              "          google.colab.kernel.accessAllowed ? 'block' : 'none';\n",
              "\n",
              "        async function convertToInteractive(key) {\n",
              "          const element = document.querySelector('#df-50d2fe30-f822-4ae9-92f6-a74d96a7e602');\n",
              "          const dataTable =\n",
              "            await google.colab.kernel.invokeFunction('convertToInteractive',\n",
              "                                                     [key], {});\n",
              "          if (!dataTable) return;\n",
              "\n",
              "          const docLinkHtml = 'Like what you see? Visit the ' +\n",
              "            '<a target=\"_blank\" href=https://colab.research.google.com/notebooks/data_table.ipynb>data table notebook</a>'\n",
              "            + ' to learn more about interactive tables.';\n",
              "          element.innerHTML = '';\n",
              "          dataTable['output_type'] = 'display_data';\n",
              "          await google.colab.output.renderOutput(dataTable, element);\n",
              "          const docLink = document.createElement('div');\n",
              "          docLink.innerHTML = docLinkHtml;\n",
              "          element.appendChild(docLink);\n",
              "        }\n",
              "      </script>\n",
              "    </div>\n",
              "  </div>\n",
              "  "
            ]
          },
          "metadata": {},
          "execution_count": 5
        }
      ]
    },
    {
      "cell_type": "code",
      "execution_count": null,
      "metadata": {
        "id": "L8fwoy9hdBm4"
      },
      "outputs": [],
      "source": [
        "df = pd.read_csv(\"/content/drive/MyDrive/EDA/data0712/KR_youtube_trending_data.csv\")"
      ]
    },
    {
      "cell_type": "code",
      "execution_count": null,
      "metadata": {
        "id": "Y5tUHykgkjl1",
        "outputId": "c65dec8b-c0bc-425b-934a-4aabe0ff59f7",
        "colab": {
          "base_uri": "https://localhost:8080/",
          "height": 791
        }
      },
      "outputs": [
        {
          "output_type": "execute_result",
          "data": {
            "text/plain": [
              "      video_id                                             title  \\\n",
              "0  uq5LClQN3cE                                       안녕하세요 보겸입니다   \n",
              "1  I-ZbZCHsHD0                                부락토스의 계획 [총몇명 프리퀄]   \n",
              "2  9d7jNUjBoss                                   평생 반성하면서 살겠습니다.   \n",
              "3  3pI_L3-sMVg                              안녕하세요 꽈뚜룹입니다.   \n",
              "4  zrsBjYukE8s  박진영 (J.Y. Park) When We Disco (Duet with 선미) M/V   \n",
              "\n",
              "            publishedAt                 channelId       channelTitle  \\\n",
              "0  2020-08-09T09:32:48Z  UCu9BCtGIEr73LXZsKmoujKw              보겸 BK   \n",
              "1  2020-08-12T09:00:08Z  UCRuSxVu4iqTK5kCh90ntAgA                총몇명   \n",
              "2  2020-08-10T09:54:13Z  UCMVC92EOs9yDJG5JS-CMesQ        양팡 YangPang   \n",
              "3  2020-08-11T15:00:58Z  UCkQCwnkQfgSuPTTnw_Y7v7w      꽈뚜룹 Quaddurup   \n",
              "4  2020-08-11T09:00:13Z  UCaO6TYtlC8U5ttz62hTrZgg  JYP Entertainment   \n",
              "\n",
              "   categoryId         trending_date  \\\n",
              "0          24  2020-08-12T00:00:00Z   \n",
              "1           1  2020-08-12T00:00:00Z   \n",
              "2          22  2020-08-12T00:00:00Z   \n",
              "3          24  2020-08-12T00:00:00Z   \n",
              "4          10  2020-08-12T00:00:00Z   \n",
              "\n",
              "                                                tags  view_count   likes  \\\n",
              "0                                          보겸|bokyem     5947503   53326   \n",
              "1                총몇명|재밌는 만화|부락토스|루시퍼|총몇명 프리퀄|총몇명 스토리      963384   28244   \n",
              "2  양팡|양팡유튜브|팡튜브|가족시트콤|양팡가족|양팡가족시트콤|양팡언니|현실남매|현실자매...     2950885   17974   \n",
              "3  꽈뚜룹|한국여행기|quaddurup|뚜룹이|korea|southkorea|vlog|...     1743374   36893   \n",
              "4  JYP Entertainment|JYP|J.Y.Park|JYPark|박진영|선미|S...     3433885  353337   \n",
              "\n",
              "   dislikes  comment_count                                  thumbnail_link  \\\n",
              "0    105756         139946  https://i.ytimg.com/vi/uq5LClQN3cE/default.jpg   \n",
              "1       494           3339  https://i.ytimg.com/vi/I-ZbZCHsHD0/default.jpg   \n",
              "2     68898          50688  https://i.ytimg.com/vi/9d7jNUjBoss/default.jpg   \n",
              "3      1798           8751  https://i.ytimg.com/vi/3pI_L3-sMVg/default.jpg   \n",
              "4      9763          23405  https://i.ytimg.com/vi/zrsBjYukE8s/default.jpg   \n",
              "\n",
              "   comments_disabled  ratings_disabled  \\\n",
              "0              False             False   \n",
              "1              False             False   \n",
              "2              False             False   \n",
              "3              False             False   \n",
              "4              False             False   \n",
              "\n",
              "                                         description  \n",
              "0                                                NaN  \n",
              "1  오늘도 정말 감사드립니다!!총몇명 스튜디오 - 총몇명, 십제곱, 5G민, MOVE혁...  \n",
              "2                                                NaN  \n",
              "3                앞으로 좀 더 깔끔한 영상제작 약속 드리겠습니다.늘 감사드립니다  \n",
              "4  MelOn http://kko.to/TWyXd7zYjSpotify https://s...  "
            ],
            "text/html": [
              "\n",
              "  <div id=\"df-1365efbe-d3fd-4372-9a92-14769932cab1\">\n",
              "    <div class=\"colab-df-container\">\n",
              "      <div>\n",
              "<style scoped>\n",
              "    .dataframe tbody tr th:only-of-type {\n",
              "        vertical-align: middle;\n",
              "    }\n",
              "\n",
              "    .dataframe tbody tr th {\n",
              "        vertical-align: top;\n",
              "    }\n",
              "\n",
              "    .dataframe thead th {\n",
              "        text-align: right;\n",
              "    }\n",
              "</style>\n",
              "<table border=\"1\" class=\"dataframe\">\n",
              "  <thead>\n",
              "    <tr style=\"text-align: right;\">\n",
              "      <th></th>\n",
              "      <th>video_id</th>\n",
              "      <th>title</th>\n",
              "      <th>publishedAt</th>\n",
              "      <th>channelId</th>\n",
              "      <th>channelTitle</th>\n",
              "      <th>categoryId</th>\n",
              "      <th>trending_date</th>\n",
              "      <th>tags</th>\n",
              "      <th>view_count</th>\n",
              "      <th>likes</th>\n",
              "      <th>dislikes</th>\n",
              "      <th>comment_count</th>\n",
              "      <th>thumbnail_link</th>\n",
              "      <th>comments_disabled</th>\n",
              "      <th>ratings_disabled</th>\n",
              "      <th>description</th>\n",
              "    </tr>\n",
              "  </thead>\n",
              "  <tbody>\n",
              "    <tr>\n",
              "      <th>0</th>\n",
              "      <td>uq5LClQN3cE</td>\n",
              "      <td>안녕하세요 보겸입니다</td>\n",
              "      <td>2020-08-09T09:32:48Z</td>\n",
              "      <td>UCu9BCtGIEr73LXZsKmoujKw</td>\n",
              "      <td>보겸 BK</td>\n",
              "      <td>24</td>\n",
              "      <td>2020-08-12T00:00:00Z</td>\n",
              "      <td>보겸|bokyem</td>\n",
              "      <td>5947503</td>\n",
              "      <td>53326</td>\n",
              "      <td>105756</td>\n",
              "      <td>139946</td>\n",
              "      <td>https://i.ytimg.com/vi/uq5LClQN3cE/default.jpg</td>\n",
              "      <td>False</td>\n",
              "      <td>False</td>\n",
              "      <td>NaN</td>\n",
              "    </tr>\n",
              "    <tr>\n",
              "      <th>1</th>\n",
              "      <td>I-ZbZCHsHD0</td>\n",
              "      <td>부락토스의 계획 [총몇명 프리퀄]</td>\n",
              "      <td>2020-08-12T09:00:08Z</td>\n",
              "      <td>UCRuSxVu4iqTK5kCh90ntAgA</td>\n",
              "      <td>총몇명</td>\n",
              "      <td>1</td>\n",
              "      <td>2020-08-12T00:00:00Z</td>\n",
              "      <td>총몇명|재밌는 만화|부락토스|루시퍼|총몇명 프리퀄|총몇명 스토리</td>\n",
              "      <td>963384</td>\n",
              "      <td>28244</td>\n",
              "      <td>494</td>\n",
              "      <td>3339</td>\n",
              "      <td>https://i.ytimg.com/vi/I-ZbZCHsHD0/default.jpg</td>\n",
              "      <td>False</td>\n",
              "      <td>False</td>\n",
              "      <td>오늘도 정말 감사드립니다!!총몇명 스튜디오 - 총몇명, 십제곱, 5G민, MOVE혁...</td>\n",
              "    </tr>\n",
              "    <tr>\n",
              "      <th>2</th>\n",
              "      <td>9d7jNUjBoss</td>\n",
              "      <td>평생 반성하면서 살겠습니다.</td>\n",
              "      <td>2020-08-10T09:54:13Z</td>\n",
              "      <td>UCMVC92EOs9yDJG5JS-CMesQ</td>\n",
              "      <td>양팡 YangPang</td>\n",
              "      <td>22</td>\n",
              "      <td>2020-08-12T00:00:00Z</td>\n",
              "      <td>양팡|양팡유튜브|팡튜브|가족시트콤|양팡가족|양팡가족시트콤|양팡언니|현실남매|현실자매...</td>\n",
              "      <td>2950885</td>\n",
              "      <td>17974</td>\n",
              "      <td>68898</td>\n",
              "      <td>50688</td>\n",
              "      <td>https://i.ytimg.com/vi/9d7jNUjBoss/default.jpg</td>\n",
              "      <td>False</td>\n",
              "      <td>False</td>\n",
              "      <td>NaN</td>\n",
              "    </tr>\n",
              "    <tr>\n",
              "      <th>3</th>\n",
              "      <td>3pI_L3-sMVg</td>\n",
              "      <td>안녕하세요 꽈뚜룹입니다.</td>\n",
              "      <td>2020-08-11T15:00:58Z</td>\n",
              "      <td>UCkQCwnkQfgSuPTTnw_Y7v7w</td>\n",
              "      <td>꽈뚜룹 Quaddurup</td>\n",
              "      <td>24</td>\n",
              "      <td>2020-08-12T00:00:00Z</td>\n",
              "      <td>꽈뚜룹|한국여행기|quaddurup|뚜룹이|korea|southkorea|vlog|...</td>\n",
              "      <td>1743374</td>\n",
              "      <td>36893</td>\n",
              "      <td>1798</td>\n",
              "      <td>8751</td>\n",
              "      <td>https://i.ytimg.com/vi/3pI_L3-sMVg/default.jpg</td>\n",
              "      <td>False</td>\n",
              "      <td>False</td>\n",
              "      <td>앞으로 좀 더 깔끔한 영상제작 약속 드리겠습니다.늘 감사드립니다</td>\n",
              "    </tr>\n",
              "    <tr>\n",
              "      <th>4</th>\n",
              "      <td>zrsBjYukE8s</td>\n",
              "      <td>박진영 (J.Y. Park) When We Disco (Duet with 선미) M/V</td>\n",
              "      <td>2020-08-11T09:00:13Z</td>\n",
              "      <td>UCaO6TYtlC8U5ttz62hTrZgg</td>\n",
              "      <td>JYP Entertainment</td>\n",
              "      <td>10</td>\n",
              "      <td>2020-08-12T00:00:00Z</td>\n",
              "      <td>JYP Entertainment|JYP|J.Y.Park|JYPark|박진영|선미|S...</td>\n",
              "      <td>3433885</td>\n",
              "      <td>353337</td>\n",
              "      <td>9763</td>\n",
              "      <td>23405</td>\n",
              "      <td>https://i.ytimg.com/vi/zrsBjYukE8s/default.jpg</td>\n",
              "      <td>False</td>\n",
              "      <td>False</td>\n",
              "      <td>MelOn http://kko.to/TWyXd7zYjSpotify https://s...</td>\n",
              "    </tr>\n",
              "  </tbody>\n",
              "</table>\n",
              "</div>\n",
              "      <button class=\"colab-df-convert\" onclick=\"convertToInteractive('df-1365efbe-d3fd-4372-9a92-14769932cab1')\"\n",
              "              title=\"Convert this dataframe to an interactive table.\"\n",
              "              style=\"display:none;\">\n",
              "        \n",
              "  <svg xmlns=\"http://www.w3.org/2000/svg\" height=\"24px\"viewBox=\"0 0 24 24\"\n",
              "       width=\"24px\">\n",
              "    <path d=\"M0 0h24v24H0V0z\" fill=\"none\"/>\n",
              "    <path d=\"M18.56 5.44l.94 2.06.94-2.06 2.06-.94-2.06-.94-.94-2.06-.94 2.06-2.06.94zm-11 1L8.5 8.5l.94-2.06 2.06-.94-2.06-.94L8.5 2.5l-.94 2.06-2.06.94zm10 10l.94 2.06.94-2.06 2.06-.94-2.06-.94-.94-2.06-.94 2.06-2.06.94z\"/><path d=\"M17.41 7.96l-1.37-1.37c-.4-.4-.92-.59-1.43-.59-.52 0-1.04.2-1.43.59L10.3 9.45l-7.72 7.72c-.78.78-.78 2.05 0 2.83L4 21.41c.39.39.9.59 1.41.59.51 0 1.02-.2 1.41-.59l7.78-7.78 2.81-2.81c.8-.78.8-2.07 0-2.86zM5.41 20L4 18.59l7.72-7.72 1.47 1.35L5.41 20z\"/>\n",
              "  </svg>\n",
              "      </button>\n",
              "      \n",
              "  <style>\n",
              "    .colab-df-container {\n",
              "      display:flex;\n",
              "      flex-wrap:wrap;\n",
              "      gap: 12px;\n",
              "    }\n",
              "\n",
              "    .colab-df-convert {\n",
              "      background-color: #E8F0FE;\n",
              "      border: none;\n",
              "      border-radius: 50%;\n",
              "      cursor: pointer;\n",
              "      display: none;\n",
              "      fill: #1967D2;\n",
              "      height: 32px;\n",
              "      padding: 0 0 0 0;\n",
              "      width: 32px;\n",
              "    }\n",
              "\n",
              "    .colab-df-convert:hover {\n",
              "      background-color: #E2EBFA;\n",
              "      box-shadow: 0px 1px 2px rgba(60, 64, 67, 0.3), 0px 1px 3px 1px rgba(60, 64, 67, 0.15);\n",
              "      fill: #174EA6;\n",
              "    }\n",
              "\n",
              "    [theme=dark] .colab-df-convert {\n",
              "      background-color: #3B4455;\n",
              "      fill: #D2E3FC;\n",
              "    }\n",
              "\n",
              "    [theme=dark] .colab-df-convert:hover {\n",
              "      background-color: #434B5C;\n",
              "      box-shadow: 0px 1px 3px 1px rgba(0, 0, 0, 0.15);\n",
              "      filter: drop-shadow(0px 1px 2px rgba(0, 0, 0, 0.3));\n",
              "      fill: #FFFFFF;\n",
              "    }\n",
              "  </style>\n",
              "\n",
              "      <script>\n",
              "        const buttonEl =\n",
              "          document.querySelector('#df-1365efbe-d3fd-4372-9a92-14769932cab1 button.colab-df-convert');\n",
              "        buttonEl.style.display =\n",
              "          google.colab.kernel.accessAllowed ? 'block' : 'none';\n",
              "\n",
              "        async function convertToInteractive(key) {\n",
              "          const element = document.querySelector('#df-1365efbe-d3fd-4372-9a92-14769932cab1');\n",
              "          const dataTable =\n",
              "            await google.colab.kernel.invokeFunction('convertToInteractive',\n",
              "                                                     [key], {});\n",
              "          if (!dataTable) return;\n",
              "\n",
              "          const docLinkHtml = 'Like what you see? Visit the ' +\n",
              "            '<a target=\"_blank\" href=https://colab.research.google.com/notebooks/data_table.ipynb>data table notebook</a>'\n",
              "            + ' to learn more about interactive tables.';\n",
              "          element.innerHTML = '';\n",
              "          dataTable['output_type'] = 'display_data';\n",
              "          await google.colab.output.renderOutput(dataTable, element);\n",
              "          const docLink = document.createElement('div');\n",
              "          docLink.innerHTML = docLinkHtml;\n",
              "          element.appendChild(docLink);\n",
              "        }\n",
              "      </script>\n",
              "    </div>\n",
              "  </div>\n",
              "  "
            ]
          },
          "metadata": {},
          "execution_count": 7
        }
      ],
      "source": [
        "df.head(5)"
      ]
    },
    {
      "cell_type": "markdown",
      "source": [
        "## 2. df에 대해 탐구해보아요"
      ],
      "metadata": {
        "id": "fyy0K1B7Zdmq"
      }
    },
    {
      "cell_type": "code",
      "source": [
        "#행과 열이 각각 몇 개인지 확인하기\n",
        "nRow, nCol = df.shape\n",
        "print(f'There are {nRow} rows and {nCol} columns')"
      ],
      "metadata": {
        "colab": {
          "base_uri": "https://localhost:8080/"
        },
        "id": "3wCz_qUly7Eg",
        "outputId": "d3f2f3b6-80c4-4260-ba58-0e7cae62d54c"
      },
      "execution_count": null,
      "outputs": [
        {
          "output_type": "stream",
          "name": "stdout",
          "text": [
            "There are 137554 rows and 16 columns\n"
          ]
        }
      ]
    },
    {
      "cell_type": "code",
      "source": [
        "#열 이름 16개 모두 무엇인지 출력해보기\n",
        "df.columns"
      ],
      "metadata": {
        "colab": {
          "base_uri": "https://localhost:8080/"
        },
        "id": "SJqmYXXszIOP",
        "outputId": "99399d83-33cf-4161-bded-cdd103b82296"
      },
      "execution_count": null,
      "outputs": [
        {
          "output_type": "execute_result",
          "data": {
            "text/plain": [
              "Index(['video_id', 'title', 'publishedAt', 'channelId', 'channelTitle',\n",
              "       'categoryId', 'trending_date', 'tags', 'view_count', 'likes',\n",
              "       'dislikes', 'comment_count', 'thumbnail_link', 'comments_disabled',\n",
              "       'ratings_disabled', 'description'],\n",
              "      dtype='object')"
            ]
          },
          "metadata": {},
          "execution_count": 11
        }
      ]
    },
    {
      "cell_type": "code",
      "source": [
        "#요약 정보 확인하기\n",
        "df.info()"
      ],
      "metadata": {
        "colab": {
          "base_uri": "https://localhost:8080/"
        },
        "id": "1yM6uEFN1OuQ",
        "outputId": "f4d67b87-8835-4081-e19c-33d6a635ff18"
      },
      "execution_count": null,
      "outputs": [
        {
          "output_type": "stream",
          "name": "stdout",
          "text": [
            "<class 'pandas.core.frame.DataFrame'>\n",
            "RangeIndex: 137554 entries, 0 to 137553\n",
            "Data columns (total 16 columns):\n",
            " #   Column             Non-Null Count   Dtype \n",
            "---  ------             --------------   ----- \n",
            " 0   video_id           137554 non-null  object\n",
            " 1   title              137554 non-null  object\n",
            " 2   publishedAt        137554 non-null  object\n",
            " 3   channelId          137554 non-null  object\n",
            " 4   channelTitle       137554 non-null  object\n",
            " 5   categoryId         137554 non-null  int64 \n",
            " 6   trending_date      137554 non-null  object\n",
            " 7   tags               137554 non-null  object\n",
            " 8   view_count         137554 non-null  int64 \n",
            " 9   likes              137554 non-null  int64 \n",
            " 10  dislikes           137554 non-null  int64 \n",
            " 11  comment_count      137554 non-null  int64 \n",
            " 12  thumbnail_link     137554 non-null  object\n",
            " 13  comments_disabled  137554 non-null  bool  \n",
            " 14  ratings_disabled   137554 non-null  bool  \n",
            " 15  description        134011 non-null  object\n",
            "dtypes: bool(2), int64(5), object(9)\n",
            "memory usage: 15.0+ MB\n"
          ]
        }
      ]
    },
    {
      "cell_type": "markdown",
      "source": [
        "- 결측값이 있는 열 : description (총 row가 137554인 것을 위에서 확인했으므로 알 수 있음)\n",
        "- categoryId의 Dtype이 int64\n",
        "- 열 ‘publishedAt’, 열 ‘trending_date’ 둘 다 object 형태"
      ],
      "metadata": {
        "id": "llwfDdHla4Zd"
      }
    },
    {
      "cell_type": "code",
      "source": [
        "# + 아래와 같은 방식으로 각 컬럼의 자료형을 확인할 수 있음\n",
        "for col in df.columns:\n",
        "    print('{}: {}'.format(col, df[col].dtype))"
      ],
      "metadata": {
        "colab": {
          "base_uri": "https://localhost:8080/"
        },
        "id": "KxzxiGkj0opt",
        "outputId": "73cf4a6a-2c2c-44a8-c4f9-b8d579a1f5dc"
      },
      "execution_count": null,
      "outputs": [
        {
          "output_type": "stream",
          "name": "stdout",
          "text": [
            "video_id: object\n",
            "title: object\n",
            "publishedAt: object\n",
            "channelId: object\n",
            "channelTitle: object\n",
            "categoryId: int64\n",
            "trending_date: object\n",
            "tags: object\n",
            "view_count: int64\n",
            "likes: int64\n",
            "dislikes: int64\n",
            "comment_count: int64\n",
            "thumbnail_link: object\n",
            "comments_disabled: bool\n",
            "ratings_disabled: bool\n",
            "description: object\n"
          ]
        }
      ]
    },
    {
      "cell_type": "code",
      "source": [
        "# 분석과는 앞으로 관련이 없을 열‘thumbnail_link’ 제거하기\n",
        "df = df.drop([\"thumbnail_link\"],axis=1)"
      ],
      "metadata": {
        "id": "Vlg3B8xv37WQ"
      },
      "execution_count": null,
      "outputs": []
    },
    {
      "cell_type": "code",
      "source": [
        "# 'title' 의 고유한 개수 찾기\n",
        "print('고유한 title의 개수는 '+str(len(df['title'].unique()))+'개입니다.')"
      ],
      "metadata": {
        "colab": {
          "base_uri": "https://localhost:8080/"
        },
        "id": "VlHHTptcQPNr",
        "outputId": "d95ed9c5-a8fe-4379-f0ae-9df944479629"
      },
      "execution_count": null,
      "outputs": [
        {
          "output_type": "stream",
          "name": "stdout",
          "text": [
            "고유한 title의 개수는 18079개입니다.\n"
          ]
        }
      ]
    },
    {
      "cell_type": "code",
      "source": [
        "# 'video_id' 의 고유한 개수 찾기\n",
        "print('고유한 video_id의 개수는 '+str(len(df['video_id'].unique()))+'개입니다.')"
      ],
      "metadata": {
        "colab": {
          "base_uri": "https://localhost:8080/"
        },
        "id": "tOnRo9U-d7rm",
        "outputId": "fb9a9479-2827-45c3-c615-78316142625c"
      },
      "execution_count": null,
      "outputs": [
        {
          "output_type": "stream",
          "name": "stdout",
          "text": [
            "고유한 video_id의 개수는 16930개입니다.\n"
          ]
        }
      ]
    },
    {
      "cell_type": "code",
      "source": [
        "# 이거 더 생각해봐라 도대체 둘이 왜 다른거냐?\n",
        "# + 추가 : 각 title이 몇 개씩 들어가있을까? \n",
        "df.groupby('title').count()"
      ],
      "metadata": {
        "id": "9Ji0edMQdBMr"
      },
      "execution_count": null,
      "outputs": []
    },
    {
      "cell_type": "code",
      "source": [
        "#‘comments_disabled’열이 True라면, ‘comment_count’도 0일 것임. 이것이 사실인지 확인해보기.\n",
        "print(df[df.comments_disabled==True]['comment_count'].head())\n",
        "print('-'*30)\n",
        "\n",
        "#같은 맥락으로, ‘ratings_disabled’열이 True라면, ‘likes’, ‘dislikes’ 모두 0일 것임. 이것 또한 사실인지 확인해보기.\n",
        "print(df[df.ratings_disabled==True][['likes','dislikes']].sample(5))"
      ],
      "metadata": {
        "colab": {
          "base_uri": "https://localhost:8080/"
        },
        "id": "PtmLL9qQ-5og",
        "outputId": "ebcf3fcf-788c-48f9-c4ac-2ac3557c18c6"
      },
      "execution_count": null,
      "outputs": [
        {
          "output_type": "stream",
          "name": "stdout",
          "text": [
            "33     0\n",
            "47     0\n",
            "191    0\n",
            "205    0\n",
            "349    0\n",
            "Name: comment_count, dtype: int64\n",
            "------------------------------\n",
            "       likes  dislikes\n",
            "85257      0         0\n",
            "84665      0         0\n",
            "38239      0         0\n",
            "45889      0         0\n",
            "73658      0         0\n"
          ]
        }
      ]
    },
    {
      "cell_type": "code",
      "source": [
        "#‘comment_count’도 0이면. ‘comments_disabled’열이 True 일 것인가?\n",
        "print(df[df.comment_count==0]['comments_disabled'].value_counts())\n",
        "print('-'*30)\n",
        "\n",
        "#같은 맥락으로‘likes'가 0이라면,‘ratings_disabled’열이 True일 것인가?\n",
        "print(df[df.likes==0]['ratings_disabled'].value_counts())"
      ],
      "metadata": {
        "id": "asYvm65QqGwv"
      },
      "execution_count": null,
      "outputs": []
    },
    {
      "cell_type": "code",
      "source": [
        "# 열 ‘publishedAt’, 열 ‘trending_date’ 둘 다 object 형태임을 위에서 확인하였으니, 이를 모두 datatime64[ns] 형태로 변환하기.\n",
        "\n",
        "print('전처리 이전의 데이터')\n",
        "print(df[['publishedAt','trending_date']].head(5))\n",
        "df['publishedAt']=pd.to_datetime(df.publishedAt)\n",
        "df['publishedAt'] = df['publishedAt'].dt.tz_convert(None)\n",
        "df['trending_date']=pd.to_datetime(df.trending_date)\n",
        "df['trending_date'] = df['trending_date'].dt.tz_convert(None)\n",
        "print()\n",
        "print('전처리 이후의 데이터')\n",
        "print(df[['publishedAt','trending_date']].head(5))"
      ],
      "metadata": {
        "id": "_3TqfJZDJAAR"
      },
      "execution_count": null,
      "outputs": []
    },
    {
      "cell_type": "code",
      "source": [
        "df.info()"
      ],
      "metadata": {
        "colab": {
          "base_uri": "https://localhost:8080/"
        },
        "id": "rPslhc_3iv4I",
        "outputId": "fb1097a8-2707-43b0-cb0b-5e2ee4175c8c"
      },
      "execution_count": null,
      "outputs": [
        {
          "output_type": "stream",
          "name": "stdout",
          "text": [
            "<class 'pandas.core.frame.DataFrame'>\n",
            "RangeIndex: 137554 entries, 0 to 137553\n",
            "Data columns (total 15 columns):\n",
            " #   Column             Non-Null Count   Dtype         \n",
            "---  ------             --------------   -----         \n",
            " 0   video_id           137554 non-null  object        \n",
            " 1   title              137554 non-null  object        \n",
            " 2   publishedAt        137554 non-null  datetime64[ns]\n",
            " 3   channelId          137554 non-null  object        \n",
            " 4   channelTitle       137554 non-null  object        \n",
            " 5   categoryId         137554 non-null  int64         \n",
            " 6   trending_date      137554 non-null  datetime64[ns]\n",
            " 7   tags               137554 non-null  object        \n",
            " 8   view_count         137554 non-null  int64         \n",
            " 9   likes              137554 non-null  int64         \n",
            " 10  dislikes           137554 non-null  int64         \n",
            " 11  comment_count      137554 non-null  int64         \n",
            " 12  comments_disabled  137554 non-null  bool          \n",
            " 13  ratings_disabled   137554 non-null  bool          \n",
            " 14  description        134011 non-null  object        \n",
            "dtypes: bool(2), datetime64[ns](2), int64(5), object(6)\n",
            "memory usage: 13.9+ MB\n"
          ]
        }
      ]
    },
    {
      "cell_type": "code",
      "source": [
        "# 열 ‘categoryId’를 int type이 아닌 category type로 변환하기\n",
        "df['categoryId'] = df['categoryId'].astype('category')"
      ],
      "metadata": {
        "id": "Y6bgSmJb14_g"
      },
      "execution_count": null,
      "outputs": []
    },
    {
      "cell_type": "code",
      "source": [
        "df.info()"
      ],
      "metadata": {
        "colab": {
          "base_uri": "https://localhost:8080/"
        },
        "id": "jsGcPeeDjm78",
        "outputId": "8a739e2e-0bf5-47a9-e044-55fc6d935242"
      },
      "execution_count": null,
      "outputs": [
        {
          "output_type": "stream",
          "name": "stdout",
          "text": [
            "<class 'pandas.core.frame.DataFrame'>\n",
            "RangeIndex: 137554 entries, 0 to 137553\n",
            "Data columns (total 15 columns):\n",
            " #   Column             Non-Null Count   Dtype         \n",
            "---  ------             --------------   -----         \n",
            " 0   video_id           137554 non-null  object        \n",
            " 1   title              137554 non-null  object        \n",
            " 2   publishedAt        137554 non-null  datetime64[ns]\n",
            " 3   channelId          137554 non-null  object        \n",
            " 4   channelTitle       137554 non-null  object        \n",
            " 5   categoryId         137554 non-null  category      \n",
            " 6   trending_date      137554 non-null  datetime64[ns]\n",
            " 7   tags               137554 non-null  object        \n",
            " 8   view_count         137554 non-null  int64         \n",
            " 9   likes              137554 non-null  int64         \n",
            " 10  dislikes           137554 non-null  int64         \n",
            " 11  comment_count      137554 non-null  int64         \n",
            " 12  comments_disabled  137554 non-null  bool          \n",
            " 13  ratings_disabled   137554 non-null  bool          \n",
            " 14  description        134011 non-null  object        \n",
            "dtypes: bool(2), category(1), datetime64[ns](2), int64(4), object(6)\n",
            "memory usage: 13.0+ MB\n"
          ]
        }
      ]
    },
    {
      "cell_type": "code",
      "source": [
        "df.shape"
      ],
      "metadata": {
        "colab": {
          "base_uri": "https://localhost:8080/"
        },
        "id": "pSqEBuCR_Ml2",
        "outputId": "018f3db3-828b-4fdc-cc93-0839325af071"
      },
      "execution_count": null,
      "outputs": [
        {
          "output_type": "execute_result",
          "data": {
            "text/plain": [
              "(137554, 15)"
            ]
          },
          "metadata": {},
          "execution_count": 24
        }
      ]
    },
    {
      "cell_type": "code",
      "source": [
        "df = df[df['view_count']!=0]\n",
        "df.shape"
      ],
      "metadata": {
        "colab": {
          "base_uri": "https://localhost:8080/"
        },
        "id": "04rsOKUPOt7H",
        "outputId": "820e54a4-5988-4b7b-c338-5a04e2f0b50c"
      },
      "execution_count": null,
      "outputs": [
        {
          "output_type": "execute_result",
          "data": {
            "text/plain": [
              "(137541, 15)"
            ]
          },
          "metadata": {},
          "execution_count": 11
        }
      ]
    },
    {
      "cell_type": "code",
      "source": [
        "df = df.reset_index(drop=True)\n",
        "df['tag_num'] = 0\n",
        "# 태그 몇 개인지 구하기\n",
        "for i in range(len(df)):\n",
        "  if(df['tags'][i] == '[None]'):\n",
        "    df['tag_num'][i] = 0\n",
        "  else:df['tag_num'][i] = len(df['tags'][i].split('|'))"
      ],
      "metadata": {
        "id": "h5q6gtJDqkNQ"
      },
      "execution_count": null,
      "outputs": []
    },
    {
      "cell_type": "code",
      "source": [
        "#일단하지않기\n",
        "#df.drop(columns=['comments_disabled','ratings_disabled'],axis=1,inplace=True)"
      ],
      "metadata": {
        "id": "kNAa2cER_FuQ"
      },
      "execution_count": null,
      "outputs": []
    },
    {
      "cell_type": "markdown",
      "source": [
        "## 3. cat, df의 categoryId와 관련한 문제 해결해보기!"
      ],
      "metadata": {
        "id": "X4uZX2g9jrmZ"
      }
    },
    {
      "cell_type": "code",
      "source": [
        "# 1) df에서 각 category가 몇 개씩 있는지 출력하고, \n",
        "print(df['categoryId'].value_counts())\n",
        "print('-'*30)\n",
        "\n",
        "# 2) 전체 중에서의 각 category가 차지하는 비율 출력하기\n",
        "print(df['categoryId'].value_counts(normalize=True))"
      ],
      "metadata": {
        "colab": {
          "base_uri": "https://localhost:8080/"
        },
        "id": "Qm9GaRXm2PMi",
        "outputId": "af24a44e-e00e-47e3-d294-d360cb3583a5"
      },
      "execution_count": null,
      "outputs": [
        {
          "output_type": "stream",
          "name": "stdout",
          "text": [
            "24    47880\n",
            "22    21699\n",
            "10    14787\n",
            "17    10544\n",
            "23     8626\n",
            "25     6795\n",
            "26     5972\n",
            "20     5085\n",
            "1      4476\n",
            "15     2793\n",
            "27     2691\n",
            "28     2293\n",
            "19     1966\n",
            "2      1708\n",
            "29      239\n",
            "Name: categoryId, dtype: int64\n",
            "------------------------------\n",
            "24    0.348081\n",
            "22    0.157749\n",
            "10    0.107500\n",
            "17    0.076654\n",
            "23    0.062710\n",
            "25    0.049399\n",
            "26    0.043416\n",
            "20    0.036967\n",
            "1     0.032540\n",
            "15    0.020305\n",
            "27    0.019563\n",
            "28    0.016670\n",
            "19    0.014293\n",
            "2     0.012417\n",
            "29    0.001737\n",
            "Name: categoryId, dtype: float64\n"
          ]
        }
      ]
    },
    {
      "cell_type": "code",
      "source": [
        "# cat에서의 열 ‘id’와 df의 열 ‘categoryId’가 같은 내용임을 확인\n",
        "cat.head()"
      ],
      "metadata": {
        "colab": {
          "base_uri": "https://localhost:8080/",
          "height": 206
        },
        "id": "Ba5--1sZkcar",
        "outputId": "3c0724d2-2024-46b8-ffd3-eb00694b0ed9"
      },
      "execution_count": null,
      "outputs": [
        {
          "output_type": "execute_result",
          "data": {
            "text/plain": [
              "                    kind                         etag  id     snippet.title  \\\n",
              "0  youtube#videoCategory  IfWa37JGcqZs-jZeAyFGkbeh6bc   1  Film & Animation   \n",
              "1  youtube#videoCategory  5XGylIs7zkjHh5940dsT5862m1Y   2  Autos & Vehicles   \n",
              "2  youtube#videoCategory  HCjFMARbBeWjpm6PDfReCOMOZGA  10             Music   \n",
              "3  youtube#videoCategory  ra8H7xyAfmE2FewsDabE3TUSq10  15    Pets & Animals   \n",
              "4  youtube#videoCategory  7mqChSJogdF3hSIL-88BfDE-W8M  17            Sports   \n",
              "\n",
              "   snippet.assignable         snippet.channelId  \n",
              "0                True  UCBR8-60-B28hp2BmDPdntcQ  \n",
              "1                True  UCBR8-60-B28hp2BmDPdntcQ  \n",
              "2                True  UCBR8-60-B28hp2BmDPdntcQ  \n",
              "3                True  UCBR8-60-B28hp2BmDPdntcQ  \n",
              "4                True  UCBR8-60-B28hp2BmDPdntcQ  "
            ],
            "text/html": [
              "\n",
              "  <div id=\"df-0cda2bd8-bace-4188-aabf-6fcd92d34578\">\n",
              "    <div class=\"colab-df-container\">\n",
              "      <div>\n",
              "<style scoped>\n",
              "    .dataframe tbody tr th:only-of-type {\n",
              "        vertical-align: middle;\n",
              "    }\n",
              "\n",
              "    .dataframe tbody tr th {\n",
              "        vertical-align: top;\n",
              "    }\n",
              "\n",
              "    .dataframe thead th {\n",
              "        text-align: right;\n",
              "    }\n",
              "</style>\n",
              "<table border=\"1\" class=\"dataframe\">\n",
              "  <thead>\n",
              "    <tr style=\"text-align: right;\">\n",
              "      <th></th>\n",
              "      <th>kind</th>\n",
              "      <th>etag</th>\n",
              "      <th>id</th>\n",
              "      <th>snippet.title</th>\n",
              "      <th>snippet.assignable</th>\n",
              "      <th>snippet.channelId</th>\n",
              "    </tr>\n",
              "  </thead>\n",
              "  <tbody>\n",
              "    <tr>\n",
              "      <th>0</th>\n",
              "      <td>youtube#videoCategory</td>\n",
              "      <td>IfWa37JGcqZs-jZeAyFGkbeh6bc</td>\n",
              "      <td>1</td>\n",
              "      <td>Film &amp; Animation</td>\n",
              "      <td>True</td>\n",
              "      <td>UCBR8-60-B28hp2BmDPdntcQ</td>\n",
              "    </tr>\n",
              "    <tr>\n",
              "      <th>1</th>\n",
              "      <td>youtube#videoCategory</td>\n",
              "      <td>5XGylIs7zkjHh5940dsT5862m1Y</td>\n",
              "      <td>2</td>\n",
              "      <td>Autos &amp; Vehicles</td>\n",
              "      <td>True</td>\n",
              "      <td>UCBR8-60-B28hp2BmDPdntcQ</td>\n",
              "    </tr>\n",
              "    <tr>\n",
              "      <th>2</th>\n",
              "      <td>youtube#videoCategory</td>\n",
              "      <td>HCjFMARbBeWjpm6PDfReCOMOZGA</td>\n",
              "      <td>10</td>\n",
              "      <td>Music</td>\n",
              "      <td>True</td>\n",
              "      <td>UCBR8-60-B28hp2BmDPdntcQ</td>\n",
              "    </tr>\n",
              "    <tr>\n",
              "      <th>3</th>\n",
              "      <td>youtube#videoCategory</td>\n",
              "      <td>ra8H7xyAfmE2FewsDabE3TUSq10</td>\n",
              "      <td>15</td>\n",
              "      <td>Pets &amp; Animals</td>\n",
              "      <td>True</td>\n",
              "      <td>UCBR8-60-B28hp2BmDPdntcQ</td>\n",
              "    </tr>\n",
              "    <tr>\n",
              "      <th>4</th>\n",
              "      <td>youtube#videoCategory</td>\n",
              "      <td>7mqChSJogdF3hSIL-88BfDE-W8M</td>\n",
              "      <td>17</td>\n",
              "      <td>Sports</td>\n",
              "      <td>True</td>\n",
              "      <td>UCBR8-60-B28hp2BmDPdntcQ</td>\n",
              "    </tr>\n",
              "  </tbody>\n",
              "</table>\n",
              "</div>\n",
              "      <button class=\"colab-df-convert\" onclick=\"convertToInteractive('df-0cda2bd8-bace-4188-aabf-6fcd92d34578')\"\n",
              "              title=\"Convert this dataframe to an interactive table.\"\n",
              "              style=\"display:none;\">\n",
              "        \n",
              "  <svg xmlns=\"http://www.w3.org/2000/svg\" height=\"24px\"viewBox=\"0 0 24 24\"\n",
              "       width=\"24px\">\n",
              "    <path d=\"M0 0h24v24H0V0z\" fill=\"none\"/>\n",
              "    <path d=\"M18.56 5.44l.94 2.06.94-2.06 2.06-.94-2.06-.94-.94-2.06-.94 2.06-2.06.94zm-11 1L8.5 8.5l.94-2.06 2.06-.94-2.06-.94L8.5 2.5l-.94 2.06-2.06.94zm10 10l.94 2.06.94-2.06 2.06-.94-2.06-.94-.94-2.06-.94 2.06-2.06.94z\"/><path d=\"M17.41 7.96l-1.37-1.37c-.4-.4-.92-.59-1.43-.59-.52 0-1.04.2-1.43.59L10.3 9.45l-7.72 7.72c-.78.78-.78 2.05 0 2.83L4 21.41c.39.39.9.59 1.41.59.51 0 1.02-.2 1.41-.59l7.78-7.78 2.81-2.81c.8-.78.8-2.07 0-2.86zM5.41 20L4 18.59l7.72-7.72 1.47 1.35L5.41 20z\"/>\n",
              "  </svg>\n",
              "      </button>\n",
              "      \n",
              "  <style>\n",
              "    .colab-df-container {\n",
              "      display:flex;\n",
              "      flex-wrap:wrap;\n",
              "      gap: 12px;\n",
              "    }\n",
              "\n",
              "    .colab-df-convert {\n",
              "      background-color: #E8F0FE;\n",
              "      border: none;\n",
              "      border-radius: 50%;\n",
              "      cursor: pointer;\n",
              "      display: none;\n",
              "      fill: #1967D2;\n",
              "      height: 32px;\n",
              "      padding: 0 0 0 0;\n",
              "      width: 32px;\n",
              "    }\n",
              "\n",
              "    .colab-df-convert:hover {\n",
              "      background-color: #E2EBFA;\n",
              "      box-shadow: 0px 1px 2px rgba(60, 64, 67, 0.3), 0px 1px 3px 1px rgba(60, 64, 67, 0.15);\n",
              "      fill: #174EA6;\n",
              "    }\n",
              "\n",
              "    [theme=dark] .colab-df-convert {\n",
              "      background-color: #3B4455;\n",
              "      fill: #D2E3FC;\n",
              "    }\n",
              "\n",
              "    [theme=dark] .colab-df-convert:hover {\n",
              "      background-color: #434B5C;\n",
              "      box-shadow: 0px 1px 3px 1px rgba(0, 0, 0, 0.15);\n",
              "      filter: drop-shadow(0px 1px 2px rgba(0, 0, 0, 0.3));\n",
              "      fill: #FFFFFF;\n",
              "    }\n",
              "  </style>\n",
              "\n",
              "      <script>\n",
              "        const buttonEl =\n",
              "          document.querySelector('#df-0cda2bd8-bace-4188-aabf-6fcd92d34578 button.colab-df-convert');\n",
              "        buttonEl.style.display =\n",
              "          google.colab.kernel.accessAllowed ? 'block' : 'none';\n",
              "\n",
              "        async function convertToInteractive(key) {\n",
              "          const element = document.querySelector('#df-0cda2bd8-bace-4188-aabf-6fcd92d34578');\n",
              "          const dataTable =\n",
              "            await google.colab.kernel.invokeFunction('convertToInteractive',\n",
              "                                                     [key], {});\n",
              "          if (!dataTable) return;\n",
              "\n",
              "          const docLinkHtml = 'Like what you see? Visit the ' +\n",
              "            '<a target=\"_blank\" href=https://colab.research.google.com/notebooks/data_table.ipynb>data table notebook</a>'\n",
              "            + ' to learn more about interactive tables.';\n",
              "          element.innerHTML = '';\n",
              "          dataTable['output_type'] = 'display_data';\n",
              "          await google.colab.output.renderOutput(dataTable, element);\n",
              "          const docLink = document.createElement('div');\n",
              "          docLink.innerHTML = docLinkHtml;\n",
              "          element.appendChild(docLink);\n",
              "        }\n",
              "      </script>\n",
              "    </div>\n",
              "  </div>\n",
              "  "
            ]
          },
          "metadata": {},
          "execution_count": 27
        }
      ]
    },
    {
      "cell_type": "code",
      "source": [
        "# 최종 결과물은 df로 저장하며, cat에서의 ‘snippet.title’ 열이, df의 ‘category_name’열이 되도록 합치기.\n",
        "df= df.merge(cat,how ='left',left_on= 'categoryId',\n",
        "                                 right_on='id').rename(columns= {'snippet.title':'category_name'})\n",
        "df.columns"
      ],
      "metadata": {
        "id": "dDz6m9CBAX0s",
        "colab": {
          "base_uri": "https://localhost:8080/"
        },
        "outputId": "3f05724e-3f8b-46ff-ec4e-f102f06a9945"
      },
      "execution_count": null,
      "outputs": [
        {
          "output_type": "execute_result",
          "data": {
            "text/plain": [
              "Index(['video_id', 'title', 'publishedAt', 'channelId', 'channelTitle',\n",
              "       'categoryId', 'trending_date', 'tags', 'view_count', 'likes',\n",
              "       'dislikes', 'comment_count', 'comments_disabled', 'ratings_disabled',\n",
              "       'description', 'kind', 'etag', 'id', 'category_name',\n",
              "       'snippet.assignable', 'snippet.channelId'],\n",
              "      dtype='object')"
            ]
          },
          "metadata": {},
          "execution_count": 29
        }
      ]
    },
    {
      "cell_type": "code",
      "source": [
        "# cat으로부터 합쳐진 ‘snippet.title’ (df에서의 ‘category_name’) 외의 열은 모두 없애기.\n",
        "df = df.drop(['kind', 'etag', 'id','snippet.assignable', 'snippet.channelId'],axis=1)"
      ],
      "metadata": {
        "id": "TWh3YAEgl7EA"
      },
      "execution_count": null,
      "outputs": []
    },
    {
      "cell_type": "code",
      "source": [
        "print(df.columns)\n",
        "print(df.shape)"
      ],
      "metadata": {
        "colab": {
          "base_uri": "https://localhost:8080/"
        },
        "id": "R4IcQfn2nqkw",
        "outputId": "9e0c97af-8081-478d-cab2-1eb4b94e1d52"
      },
      "execution_count": null,
      "outputs": [
        {
          "output_type": "stream",
          "name": "stdout",
          "text": [
            "Index(['video_id', 'title', 'publishedAt', 'channelId', 'channelTitle',\n",
            "       'categoryId', 'trending_date', 'tags', 'view_count', 'likes',\n",
            "       'dislikes', 'comment_count', 'comments_disabled', 'ratings_disabled',\n",
            "       'description', 'category_name'],\n",
            "      dtype='object')\n",
            "(137554, 16)\n"
          ]
        }
      ]
    },
    {
      "cell_type": "markdown",
      "source": [
        "df[’category_name’]의 결측값 확인"
      ],
      "metadata": {
        "id": "pc8E2ih4o6kW"
      }
    },
    {
      "cell_type": "code",
      "source": [
        "# category_name의 고유한 값들 확인하기\n",
        "df['category_name'].unique()"
      ],
      "metadata": {
        "colab": {
          "base_uri": "https://localhost:8080/"
        },
        "id": "6zyM4px0Bwkz",
        "outputId": "2616a0e3-1662-4fc9-96fe-6a5553ad7152"
      },
      "execution_count": null,
      "outputs": [
        {
          "output_type": "execute_result",
          "data": {
            "text/plain": [
              "array(['Entertainment', 'Film & Animation', 'People & Blogs', 'Music',\n",
              "       'Comedy', 'Education', 'News & Politics', 'Sports', nan, 'Gaming',\n",
              "       'Travel & Events', 'Pets & Animals', 'Science & Technology',\n",
              "       'Howto & Style', 'Autos & Vehicles'], dtype=object)"
            ]
          },
          "metadata": {},
          "execution_count": 39
        }
      ]
    },
    {
      "cell_type": "code",
      "source": [
        "# categoryId가 29인 경우의 category_name 확인하기\n",
        "df[df.categoryId==29].category_name"
      ],
      "metadata": {
        "colab": {
          "base_uri": "https://localhost:8080/"
        },
        "id": "G_BQySDyDDhl",
        "outputId": "d2a947a4-417c-4d59-e82e-7b606104b861"
      },
      "execution_count": null,
      "outputs": [
        {
          "output_type": "execute_result",
          "data": {
            "text/plain": [
              "17        NaN\n",
              "150       NaN\n",
              "303       NaN\n",
              "476       NaN\n",
              "640       NaN\n",
              "         ... \n",
              "133281    NaN\n",
              "133499    NaN\n",
              "133700    NaN\n",
              "133938    NaN\n",
              "134151    NaN\n",
              "Name: category_name, Length: 239, dtype: object"
            ]
          },
          "metadata": {},
          "execution_count": 40
        }
      ]
    },
    {
      "cell_type": "code",
      "source": [
        "# + 바로 위의 사실 한 번 더 확인하기.\n",
        "df.isna().sum()"
      ],
      "metadata": {
        "colab": {
          "base_uri": "https://localhost:8080/"
        },
        "id": "0M-vnyHTC82V",
        "outputId": "063fdd13-394f-469c-c222-1f2516fa6ef6"
      },
      "execution_count": null,
      "outputs": [
        {
          "output_type": "execute_result",
          "data": {
            "text/plain": [
              "video_id                0\n",
              "title                   0\n",
              "publishedAt             0\n",
              "channelId               0\n",
              "channelTitle            0\n",
              "categoryId              0\n",
              "trending_date           0\n",
              "tags                    0\n",
              "view_count              0\n",
              "likes                   0\n",
              "dislikes                0\n",
              "comment_count           0\n",
              "comments_disabled       0\n",
              "ratings_disabled        0\n",
              "description          3543\n",
              "category_name         239\n",
              "dtype: int64"
            ]
          },
          "metadata": {},
          "execution_count": 41
        }
      ]
    },
    {
      "cell_type": "code",
      "source": [
        "# 열 ‘category_name’이 결측값인 행의 title 출력해보고 내용 확인하기\n",
        "df[df.category_name.isna()]['title'].unique()"
      ],
      "metadata": {
        "colab": {
          "base_uri": "https://localhost:8080/"
        },
        "id": "Wz51sPuJDEkl",
        "outputId": "8bd5e8cc-61ab-4ac1-eaf6-8ba5538501e6"
      },
      "execution_count": null,
      "outputs": [
        {
          "output_type": "execute_result",
          "data": {
            "text/plain": [
              "array(['폭우로 인한 침수 상황시 대처 방법은? [행정안전부X사물궁이]',\n",
              "       '동선 숨겼다가 고발을 당했다. 2억이 나왔다ㅣ넋 나간 가족',\n",
              "       '[김광일의 입] 文 지지층, “니가 나한테 이럴 수 있어?”', '제가 전생에 무슨 죄가 있어 이 고생을 할까요?',\n",
              "       '서울시청 가서 세리머니 하는 홍보맨ㅣ충주사과를 찾아라 서울편',\n",
              "       '6.25전쟁 70주년 기념 유엔참전용사 감사영상 - Thanks to UN veterans.',\n",
              "       '도경수 병장 30문 30답', '페트병 색깔이 투명해지고 있다고? ㅣ환경부 x 사물궁이',\n",
              "       '사막마을 벼수확(5번째 이야기) / 참 까지 얻어먹고~~', '사막마을 벼 수확(6번째 이야기).  벼 탈곡기',\n",
              "       '2020년 제야의 종 온라인 타종행사 | 보신각 현장 행사는 진행하지 않습니다.',\n",
              "       '2020년 제야의 종 온라인 타종행사 | 2021년 새해맞이 | 보신각 현장 행사는 진행하지 않습니다.',\n",
              "       '[4K][ENG Sub] BTS - With Seoul, 전지적서울시점 시즌3 하이라이트 모음',\n",
              "       '[법륜스님의 즉문즉설 제 1670회] 남편과 함께 있을 때 가슴이 답답하고 머리가 멍합니다',\n",
              "       '🥦팥시루떡[Adzuki Bean Rice Cake]💛밥솥을 이용해 밥하듯 쉽게해요💛칼밥상#183',\n",
              "       '[Eng sub] 🥦팥시루떡[Adzuki Bean Rice Cake]💛밥솥을 이용해 밥하듯 쉽게해요💛칼밥상#183',\n",
              "       '(고화질) 보너스편!! 실제상황 1인칭 경찰 시점, 응급환자 이송중인 구급차 길을 뚫어주는 싸이카 교통경찰과 시민들',\n",
              "       '[법륜스님의 즉문즉설 제 1706회] 저는 한이 많이 쌓여있어요',\n",
              "       '방탄소년단 - 지속가능발전목표 (SDGs) 모멘트(moment) -  | 유엔',\n",
              "       'BTS Shine Spotlight on the United Nations as Envoys of the President of the Republic of Korea',\n",
              "       'BTS (방탄소년단) at Global Citizen Live Concert - Permission to Dance | #GlobalCitizenLive',\n",
              "       'Coldplay and BTS Share New Song My Universe | Global Citizen Live',\n",
              "       'BTS Performs Permission to Dance in Seoul to open Global Citizen Live | Global Citizen Live',\n",
              "       '리얼먹방:) 로제 떡볶이!(ft. 단무지) | Rose Tteokbokki | Korea tteok | Danmuji Muchim | REAL SOUND | ASMR MUKBANG',\n",
              "       '동지팥죽을 여러 번거로운 과정없이 안쳐주기만 하면 알아서 다 해주는 세상쉬운 팥죽끓이기. 칼밥상#267',\n",
              "       '[단독영상] 부산 홈플러스 연산점 5층 주차장에서 차량 추락', '충주시 새로운 전문관 영입 (feat. 산체스)',\n",
              "       '고등학생 심정지 발생 그리고 숨은 영웅 2탄 살려야한다', '흔한 공무원의 사과즙 먹방', '마감 5분 전',\n",
              "       '왜 지우고 가셨어요?', '가능하시죠?', '전한길 x 홍보맨 1편', '전한길 x 홍보맨 2편'],\n",
              "      dtype=object)"
            ]
          },
          "metadata": {},
          "execution_count": 32
        }
      ]
    },
    {
      "cell_type": "code",
      "source": [
        "df['category_name'] = df['category_name'].fillna('Nonprofits & Activism')"
      ],
      "metadata": {
        "id": "jxoZaGdKRVvO"
      },
      "execution_count": null,
      "outputs": []
    },
    {
      "cell_type": "code",
      "source": [
        "df.category_name.isna().any()"
      ],
      "metadata": {
        "colab": {
          "base_uri": "https://localhost:8080/"
        },
        "id": "5KA-piZxHR0T",
        "outputId": "574a8c23-3dbb-4341-c5f3-eafda06b53f8"
      },
      "execution_count": null,
      "outputs": [
        {
          "output_type": "execute_result",
          "data": {
            "text/plain": [
              "False"
            ]
          },
          "metadata": {},
          "execution_count": 45
        }
      ]
    },
    {
      "cell_type": "code",
      "source": [
        "df_unique = pd.DataFrame(columns = ['video_id', 'title', 'publishedAt', 'channelId', 'channelTitle',\n",
        "       'trending_date', 'tags', 'view_count', 'likes', 'dislikes',\n",
        "       'comment_count', 'description', 'category_name', 'tag_num', 'period'])\n",
        "#period 열을 추가!\n",
        "\n",
        "for i in range(len(df['video_id'].unique())):\n",
        "  df_unique = df_unique.append(df[df['video_id']==df['video_id'].unique()[i]].tail(1), ignore_index=True)\n",
        "  df_unique['period'][i] = len(df[df['video_id']==df['video_id'].unique()[i]])"
      ],
      "metadata": {
        "id": "Ms2z4DPrqtim"
      },
      "execution_count": null,
      "outputs": []
    },
    {
      "cell_type": "markdown",
      "source": [
        "## 4. 요약통계량 살펴보기 (이후부터 결과물은 개인 차가 존재함)"
      ],
      "metadata": {
        "id": "5MVtdjJbq1y5"
      }
    },
    {
      "cell_type": "code",
      "source": [
        "df.describe()"
      ],
      "metadata": {
        "colab": {
          "base_uri": "https://localhost:8080/",
          "height": 300
        },
        "id": "xFBE3_PO1wqI",
        "outputId": "835b5354-5baa-453b-86e0-149142debe10"
      },
      "execution_count": null,
      "outputs": [
        {
          "output_type": "execute_result",
          "data": {
            "text/plain": [
              "         view_count         likes       dislikes  comment_count\n",
              "count  1.375540e+05  1.375540e+05  137554.000000   1.375540e+05\n",
              "mean   1.618720e+06  7.406458e+04     870.091957   8.841621e+03\n",
              "std    6.166372e+06  4.292023e+05    9655.556540   1.125411e+05\n",
              "min    0.000000e+00  0.000000e+00       0.000000   0.000000e+00\n",
              "25%    3.356400e+05  5.743000e+03       0.000000   5.470000e+02\n",
              "50%    6.521940e+05  1.157800e+04     129.000000   1.215000e+03\n",
              "75%    1.307116e+06  2.634875e+04     350.000000   2.870000e+03\n",
              "max    2.963142e+08  1.646425e+07  879358.000000   6.939302e+06"
            ],
            "text/html": [
              "\n",
              "  <div id=\"df-52a771a1-10a6-4bf1-bf43-5f490bab2a83\">\n",
              "    <div class=\"colab-df-container\">\n",
              "      <div>\n",
              "<style scoped>\n",
              "    .dataframe tbody tr th:only-of-type {\n",
              "        vertical-align: middle;\n",
              "    }\n",
              "\n",
              "    .dataframe tbody tr th {\n",
              "        vertical-align: top;\n",
              "    }\n",
              "\n",
              "    .dataframe thead th {\n",
              "        text-align: right;\n",
              "    }\n",
              "</style>\n",
              "<table border=\"1\" class=\"dataframe\">\n",
              "  <thead>\n",
              "    <tr style=\"text-align: right;\">\n",
              "      <th></th>\n",
              "      <th>view_count</th>\n",
              "      <th>likes</th>\n",
              "      <th>dislikes</th>\n",
              "      <th>comment_count</th>\n",
              "    </tr>\n",
              "  </thead>\n",
              "  <tbody>\n",
              "    <tr>\n",
              "      <th>count</th>\n",
              "      <td>1.375540e+05</td>\n",
              "      <td>1.375540e+05</td>\n",
              "      <td>137554.000000</td>\n",
              "      <td>1.375540e+05</td>\n",
              "    </tr>\n",
              "    <tr>\n",
              "      <th>mean</th>\n",
              "      <td>1.618720e+06</td>\n",
              "      <td>7.406458e+04</td>\n",
              "      <td>870.091957</td>\n",
              "      <td>8.841621e+03</td>\n",
              "    </tr>\n",
              "    <tr>\n",
              "      <th>std</th>\n",
              "      <td>6.166372e+06</td>\n",
              "      <td>4.292023e+05</td>\n",
              "      <td>9655.556540</td>\n",
              "      <td>1.125411e+05</td>\n",
              "    </tr>\n",
              "    <tr>\n",
              "      <th>min</th>\n",
              "      <td>0.000000e+00</td>\n",
              "      <td>0.000000e+00</td>\n",
              "      <td>0.000000</td>\n",
              "      <td>0.000000e+00</td>\n",
              "    </tr>\n",
              "    <tr>\n",
              "      <th>25%</th>\n",
              "      <td>3.356400e+05</td>\n",
              "      <td>5.743000e+03</td>\n",
              "      <td>0.000000</td>\n",
              "      <td>5.470000e+02</td>\n",
              "    </tr>\n",
              "    <tr>\n",
              "      <th>50%</th>\n",
              "      <td>6.521940e+05</td>\n",
              "      <td>1.157800e+04</td>\n",
              "      <td>129.000000</td>\n",
              "      <td>1.215000e+03</td>\n",
              "    </tr>\n",
              "    <tr>\n",
              "      <th>75%</th>\n",
              "      <td>1.307116e+06</td>\n",
              "      <td>2.634875e+04</td>\n",
              "      <td>350.000000</td>\n",
              "      <td>2.870000e+03</td>\n",
              "    </tr>\n",
              "    <tr>\n",
              "      <th>max</th>\n",
              "      <td>2.963142e+08</td>\n",
              "      <td>1.646425e+07</td>\n",
              "      <td>879358.000000</td>\n",
              "      <td>6.939302e+06</td>\n",
              "    </tr>\n",
              "  </tbody>\n",
              "</table>\n",
              "</div>\n",
              "      <button class=\"colab-df-convert\" onclick=\"convertToInteractive('df-52a771a1-10a6-4bf1-bf43-5f490bab2a83')\"\n",
              "              title=\"Convert this dataframe to an interactive table.\"\n",
              "              style=\"display:none;\">\n",
              "        \n",
              "  <svg xmlns=\"http://www.w3.org/2000/svg\" height=\"24px\"viewBox=\"0 0 24 24\"\n",
              "       width=\"24px\">\n",
              "    <path d=\"M0 0h24v24H0V0z\" fill=\"none\"/>\n",
              "    <path d=\"M18.56 5.44l.94 2.06.94-2.06 2.06-.94-2.06-.94-.94-2.06-.94 2.06-2.06.94zm-11 1L8.5 8.5l.94-2.06 2.06-.94-2.06-.94L8.5 2.5l-.94 2.06-2.06.94zm10 10l.94 2.06.94-2.06 2.06-.94-2.06-.94-.94-2.06-.94 2.06-2.06.94z\"/><path d=\"M17.41 7.96l-1.37-1.37c-.4-.4-.92-.59-1.43-.59-.52 0-1.04.2-1.43.59L10.3 9.45l-7.72 7.72c-.78.78-.78 2.05 0 2.83L4 21.41c.39.39.9.59 1.41.59.51 0 1.02-.2 1.41-.59l7.78-7.78 2.81-2.81c.8-.78.8-2.07 0-2.86zM5.41 20L4 18.59l7.72-7.72 1.47 1.35L5.41 20z\"/>\n",
              "  </svg>\n",
              "      </button>\n",
              "      \n",
              "  <style>\n",
              "    .colab-df-container {\n",
              "      display:flex;\n",
              "      flex-wrap:wrap;\n",
              "      gap: 12px;\n",
              "    }\n",
              "\n",
              "    .colab-df-convert {\n",
              "      background-color: #E8F0FE;\n",
              "      border: none;\n",
              "      border-radius: 50%;\n",
              "      cursor: pointer;\n",
              "      display: none;\n",
              "      fill: #1967D2;\n",
              "      height: 32px;\n",
              "      padding: 0 0 0 0;\n",
              "      width: 32px;\n",
              "    }\n",
              "\n",
              "    .colab-df-convert:hover {\n",
              "      background-color: #E2EBFA;\n",
              "      box-shadow: 0px 1px 2px rgba(60, 64, 67, 0.3), 0px 1px 3px 1px rgba(60, 64, 67, 0.15);\n",
              "      fill: #174EA6;\n",
              "    }\n",
              "\n",
              "    [theme=dark] .colab-df-convert {\n",
              "      background-color: #3B4455;\n",
              "      fill: #D2E3FC;\n",
              "    }\n",
              "\n",
              "    [theme=dark] .colab-df-convert:hover {\n",
              "      background-color: #434B5C;\n",
              "      box-shadow: 0px 1px 3px 1px rgba(0, 0, 0, 0.15);\n",
              "      filter: drop-shadow(0px 1px 2px rgba(0, 0, 0, 0.3));\n",
              "      fill: #FFFFFF;\n",
              "    }\n",
              "  </style>\n",
              "\n",
              "      <script>\n",
              "        const buttonEl =\n",
              "          document.querySelector('#df-52a771a1-10a6-4bf1-bf43-5f490bab2a83 button.colab-df-convert');\n",
              "        buttonEl.style.display =\n",
              "          google.colab.kernel.accessAllowed ? 'block' : 'none';\n",
              "\n",
              "        async function convertToInteractive(key) {\n",
              "          const element = document.querySelector('#df-52a771a1-10a6-4bf1-bf43-5f490bab2a83');\n",
              "          const dataTable =\n",
              "            await google.colab.kernel.invokeFunction('convertToInteractive',\n",
              "                                                     [key], {});\n",
              "          if (!dataTable) return;\n",
              "\n",
              "          const docLinkHtml = 'Like what you see? Visit the ' +\n",
              "            '<a target=\"_blank\" href=https://colab.research.google.com/notebooks/data_table.ipynb>data table notebook</a>'\n",
              "            + ' to learn more about interactive tables.';\n",
              "          element.innerHTML = '';\n",
              "          dataTable['output_type'] = 'display_data';\n",
              "          await google.colab.output.renderOutput(dataTable, element);\n",
              "          const docLink = document.createElement('div');\n",
              "          docLink.innerHTML = docLinkHtml;\n",
              "          element.appendChild(docLink);\n",
              "        }\n",
              "      </script>\n",
              "    </div>\n",
              "  </div>\n",
              "  "
            ]
          },
          "metadata": {},
          "execution_count": 15
        }
      ]
    },
    {
      "cell_type": "code",
      "source": [
        "df.groupby('categoryId').median()"
      ],
      "metadata": {
        "colab": {
          "base_uri": "https://localhost:8080/",
          "height": 551
        },
        "id": "68GOa4iF_4Us",
        "outputId": "0e3e0523-116c-4352-a9f2-aee2b26db729"
      },
      "execution_count": null,
      "outputs": [
        {
          "output_type": "execute_result",
          "data": {
            "text/plain": [
              "            view_count    likes  dislikes  comment_count\n",
              "categoryId                                              \n",
              "1             759342.0  15420.5     165.0         1665.5\n",
              "2             459026.0   4289.5     123.5          851.0\n",
              "10           1081822.0  57687.0     147.0         3914.0\n",
              "15            517127.0  12346.0     125.0         1056.0\n",
              "17            653979.0   6561.0      99.0         1174.5\n",
              "19            500747.0  10067.5      65.0         1127.0\n",
              "20            508748.0   7980.0      79.0         1304.0\n",
              "22            548826.0  12087.0     121.0         1062.0\n",
              "23            734805.5  13231.0     166.0         1345.0\n",
              "24            700801.0  11758.0     127.0         1148.0\n",
              "25            811548.0   9145.0     207.0         2063.0\n",
              "26            498987.5   9249.5     108.0          366.0\n",
              "27            441622.0   9406.0     168.0          812.0\n",
              "28            447054.0   6591.0     173.0          955.0\n",
              "29            321082.0   7632.0      55.0          571.0"
            ],
            "text/html": [
              "\n",
              "  <div id=\"df-5aaad0c8-3d1a-4ef5-bc6a-132775018a82\">\n",
              "    <div class=\"colab-df-container\">\n",
              "      <div>\n",
              "<style scoped>\n",
              "    .dataframe tbody tr th:only-of-type {\n",
              "        vertical-align: middle;\n",
              "    }\n",
              "\n",
              "    .dataframe tbody tr th {\n",
              "        vertical-align: top;\n",
              "    }\n",
              "\n",
              "    .dataframe thead th {\n",
              "        text-align: right;\n",
              "    }\n",
              "</style>\n",
              "<table border=\"1\" class=\"dataframe\">\n",
              "  <thead>\n",
              "    <tr style=\"text-align: right;\">\n",
              "      <th></th>\n",
              "      <th>view_count</th>\n",
              "      <th>likes</th>\n",
              "      <th>dislikes</th>\n",
              "      <th>comment_count</th>\n",
              "    </tr>\n",
              "    <tr>\n",
              "      <th>categoryId</th>\n",
              "      <th></th>\n",
              "      <th></th>\n",
              "      <th></th>\n",
              "      <th></th>\n",
              "    </tr>\n",
              "  </thead>\n",
              "  <tbody>\n",
              "    <tr>\n",
              "      <th>1</th>\n",
              "      <td>759342.0</td>\n",
              "      <td>15420.5</td>\n",
              "      <td>165.0</td>\n",
              "      <td>1665.5</td>\n",
              "    </tr>\n",
              "    <tr>\n",
              "      <th>2</th>\n",
              "      <td>459026.0</td>\n",
              "      <td>4289.5</td>\n",
              "      <td>123.5</td>\n",
              "      <td>851.0</td>\n",
              "    </tr>\n",
              "    <tr>\n",
              "      <th>10</th>\n",
              "      <td>1081822.0</td>\n",
              "      <td>57687.0</td>\n",
              "      <td>147.0</td>\n",
              "      <td>3914.0</td>\n",
              "    </tr>\n",
              "    <tr>\n",
              "      <th>15</th>\n",
              "      <td>517127.0</td>\n",
              "      <td>12346.0</td>\n",
              "      <td>125.0</td>\n",
              "      <td>1056.0</td>\n",
              "    </tr>\n",
              "    <tr>\n",
              "      <th>17</th>\n",
              "      <td>653979.0</td>\n",
              "      <td>6561.0</td>\n",
              "      <td>99.0</td>\n",
              "      <td>1174.5</td>\n",
              "    </tr>\n",
              "    <tr>\n",
              "      <th>19</th>\n",
              "      <td>500747.0</td>\n",
              "      <td>10067.5</td>\n",
              "      <td>65.0</td>\n",
              "      <td>1127.0</td>\n",
              "    </tr>\n",
              "    <tr>\n",
              "      <th>20</th>\n",
              "      <td>508748.0</td>\n",
              "      <td>7980.0</td>\n",
              "      <td>79.0</td>\n",
              "      <td>1304.0</td>\n",
              "    </tr>\n",
              "    <tr>\n",
              "      <th>22</th>\n",
              "      <td>548826.0</td>\n",
              "      <td>12087.0</td>\n",
              "      <td>121.0</td>\n",
              "      <td>1062.0</td>\n",
              "    </tr>\n",
              "    <tr>\n",
              "      <th>23</th>\n",
              "      <td>734805.5</td>\n",
              "      <td>13231.0</td>\n",
              "      <td>166.0</td>\n",
              "      <td>1345.0</td>\n",
              "    </tr>\n",
              "    <tr>\n",
              "      <th>24</th>\n",
              "      <td>700801.0</td>\n",
              "      <td>11758.0</td>\n",
              "      <td>127.0</td>\n",
              "      <td>1148.0</td>\n",
              "    </tr>\n",
              "    <tr>\n",
              "      <th>25</th>\n",
              "      <td>811548.0</td>\n",
              "      <td>9145.0</td>\n",
              "      <td>207.0</td>\n",
              "      <td>2063.0</td>\n",
              "    </tr>\n",
              "    <tr>\n",
              "      <th>26</th>\n",
              "      <td>498987.5</td>\n",
              "      <td>9249.5</td>\n",
              "      <td>108.0</td>\n",
              "      <td>366.0</td>\n",
              "    </tr>\n",
              "    <tr>\n",
              "      <th>27</th>\n",
              "      <td>441622.0</td>\n",
              "      <td>9406.0</td>\n",
              "      <td>168.0</td>\n",
              "      <td>812.0</td>\n",
              "    </tr>\n",
              "    <tr>\n",
              "      <th>28</th>\n",
              "      <td>447054.0</td>\n",
              "      <td>6591.0</td>\n",
              "      <td>173.0</td>\n",
              "      <td>955.0</td>\n",
              "    </tr>\n",
              "    <tr>\n",
              "      <th>29</th>\n",
              "      <td>321082.0</td>\n",
              "      <td>7632.0</td>\n",
              "      <td>55.0</td>\n",
              "      <td>571.0</td>\n",
              "    </tr>\n",
              "  </tbody>\n",
              "</table>\n",
              "</div>\n",
              "      <button class=\"colab-df-convert\" onclick=\"convertToInteractive('df-5aaad0c8-3d1a-4ef5-bc6a-132775018a82')\"\n",
              "              title=\"Convert this dataframe to an interactive table.\"\n",
              "              style=\"display:none;\">\n",
              "        \n",
              "  <svg xmlns=\"http://www.w3.org/2000/svg\" height=\"24px\"viewBox=\"0 0 24 24\"\n",
              "       width=\"24px\">\n",
              "    <path d=\"M0 0h24v24H0V0z\" fill=\"none\"/>\n",
              "    <path d=\"M18.56 5.44l.94 2.06.94-2.06 2.06-.94-2.06-.94-.94-2.06-.94 2.06-2.06.94zm-11 1L8.5 8.5l.94-2.06 2.06-.94-2.06-.94L8.5 2.5l-.94 2.06-2.06.94zm10 10l.94 2.06.94-2.06 2.06-.94-2.06-.94-.94-2.06-.94 2.06-2.06.94z\"/><path d=\"M17.41 7.96l-1.37-1.37c-.4-.4-.92-.59-1.43-.59-.52 0-1.04.2-1.43.59L10.3 9.45l-7.72 7.72c-.78.78-.78 2.05 0 2.83L4 21.41c.39.39.9.59 1.41.59.51 0 1.02-.2 1.41-.59l7.78-7.78 2.81-2.81c.8-.78.8-2.07 0-2.86zM5.41 20L4 18.59l7.72-7.72 1.47 1.35L5.41 20z\"/>\n",
              "  </svg>\n",
              "      </button>\n",
              "      \n",
              "  <style>\n",
              "    .colab-df-container {\n",
              "      display:flex;\n",
              "      flex-wrap:wrap;\n",
              "      gap: 12px;\n",
              "    }\n",
              "\n",
              "    .colab-df-convert {\n",
              "      background-color: #E8F0FE;\n",
              "      border: none;\n",
              "      border-radius: 50%;\n",
              "      cursor: pointer;\n",
              "      display: none;\n",
              "      fill: #1967D2;\n",
              "      height: 32px;\n",
              "      padding: 0 0 0 0;\n",
              "      width: 32px;\n",
              "    }\n",
              "\n",
              "    .colab-df-convert:hover {\n",
              "      background-color: #E2EBFA;\n",
              "      box-shadow: 0px 1px 2px rgba(60, 64, 67, 0.3), 0px 1px 3px 1px rgba(60, 64, 67, 0.15);\n",
              "      fill: #174EA6;\n",
              "    }\n",
              "\n",
              "    [theme=dark] .colab-df-convert {\n",
              "      background-color: #3B4455;\n",
              "      fill: #D2E3FC;\n",
              "    }\n",
              "\n",
              "    [theme=dark] .colab-df-convert:hover {\n",
              "      background-color: #434B5C;\n",
              "      box-shadow: 0px 1px 3px 1px rgba(0, 0, 0, 0.15);\n",
              "      filter: drop-shadow(0px 1px 2px rgba(0, 0, 0, 0.3));\n",
              "      fill: #FFFFFF;\n",
              "    }\n",
              "  </style>\n",
              "\n",
              "      <script>\n",
              "        const buttonEl =\n",
              "          document.querySelector('#df-5aaad0c8-3d1a-4ef5-bc6a-132775018a82 button.colab-df-convert');\n",
              "        buttonEl.style.display =\n",
              "          google.colab.kernel.accessAllowed ? 'block' : 'none';\n",
              "\n",
              "        async function convertToInteractive(key) {\n",
              "          const element = document.querySelector('#df-5aaad0c8-3d1a-4ef5-bc6a-132775018a82');\n",
              "          const dataTable =\n",
              "            await google.colab.kernel.invokeFunction('convertToInteractive',\n",
              "                                                     [key], {});\n",
              "          if (!dataTable) return;\n",
              "\n",
              "          const docLinkHtml = 'Like what you see? Visit the ' +\n",
              "            '<a target=\"_blank\" href=https://colab.research.google.com/notebooks/data_table.ipynb>data table notebook</a>'\n",
              "            + ' to learn more about interactive tables.';\n",
              "          element.innerHTML = '';\n",
              "          dataTable['output_type'] = 'display_data';\n",
              "          await google.colab.output.renderOutput(dataTable, element);\n",
              "          const docLink = document.createElement('div');\n",
              "          docLink.innerHTML = docLinkHtml;\n",
              "          element.appendChild(docLink);\n",
              "        }\n",
              "      </script>\n",
              "    </div>\n",
              "  </div>\n",
              "  "
            ]
          },
          "metadata": {},
          "execution_count": 23
        }
      ]
    },
    {
      "cell_type": "code",
      "source": [
        "df.groupby('categoryId').mean()"
      ],
      "metadata": {
        "colab": {
          "base_uri": "https://localhost:8080/",
          "height": 551
        },
        "id": "Eunurenp_PNK",
        "outputId": "308f34f9-ce9e-42b5-9c41-464b10384e63"
      },
      "execution_count": null,
      "outputs": [
        {
          "output_type": "execute_result",
          "data": {
            "text/plain": [
              "              view_count          likes     dislikes  comment_count\n",
              "categoryId                                                         \n",
              "1           1.098933e+06   23122.434987   386.874665    2820.174486\n",
              "2           7.542978e+05    9432.513466   370.252927    1503.310890\n",
              "10          6.079885e+06  439184.165618  4261.412727   58516.820721\n",
              "15          7.388543e+05   15344.965986   213.144647    1550.316148\n",
              "17          1.083339e+06   15103.255501   336.757113    2457.487955\n",
              "19          7.637694e+05   18275.155646   175.853510    1757.895727\n",
              "20          1.297482e+06   38469.234415   734.631858    3433.956735\n",
              "22          9.210724e+05   34847.271625   490.200055    2870.315360\n",
              "23          1.158998e+06   36769.260607   795.539532    3334.783329\n",
              "24          1.176115e+06   36080.916061   430.765873    3179.880138\n",
              "25          1.177876e+06   14672.774834   399.787049    3772.898160\n",
              "26          7.238494e+05   15489.348459   239.201440     965.924481\n",
              "27          9.466088e+05   14889.859532   307.484950    1604.532887\n",
              "28          1.567604e+06   39549.261230  1249.734409    2262.019625\n",
              "29          8.399390e+05   69324.079498   490.682008    1466.188285"
            ],
            "text/html": [
              "\n",
              "  <div id=\"df-e8d2a097-3445-4573-9c88-7ccab9958876\">\n",
              "    <div class=\"colab-df-container\">\n",
              "      <div>\n",
              "<style scoped>\n",
              "    .dataframe tbody tr th:only-of-type {\n",
              "        vertical-align: middle;\n",
              "    }\n",
              "\n",
              "    .dataframe tbody tr th {\n",
              "        vertical-align: top;\n",
              "    }\n",
              "\n",
              "    .dataframe thead th {\n",
              "        text-align: right;\n",
              "    }\n",
              "</style>\n",
              "<table border=\"1\" class=\"dataframe\">\n",
              "  <thead>\n",
              "    <tr style=\"text-align: right;\">\n",
              "      <th></th>\n",
              "      <th>view_count</th>\n",
              "      <th>likes</th>\n",
              "      <th>dislikes</th>\n",
              "      <th>comment_count</th>\n",
              "    </tr>\n",
              "    <tr>\n",
              "      <th>categoryId</th>\n",
              "      <th></th>\n",
              "      <th></th>\n",
              "      <th></th>\n",
              "      <th></th>\n",
              "    </tr>\n",
              "  </thead>\n",
              "  <tbody>\n",
              "    <tr>\n",
              "      <th>1</th>\n",
              "      <td>1.098933e+06</td>\n",
              "      <td>23122.434987</td>\n",
              "      <td>386.874665</td>\n",
              "      <td>2820.174486</td>\n",
              "    </tr>\n",
              "    <tr>\n",
              "      <th>2</th>\n",
              "      <td>7.542978e+05</td>\n",
              "      <td>9432.513466</td>\n",
              "      <td>370.252927</td>\n",
              "      <td>1503.310890</td>\n",
              "    </tr>\n",
              "    <tr>\n",
              "      <th>10</th>\n",
              "      <td>6.079885e+06</td>\n",
              "      <td>439184.165618</td>\n",
              "      <td>4261.412727</td>\n",
              "      <td>58516.820721</td>\n",
              "    </tr>\n",
              "    <tr>\n",
              "      <th>15</th>\n",
              "      <td>7.388543e+05</td>\n",
              "      <td>15344.965986</td>\n",
              "      <td>213.144647</td>\n",
              "      <td>1550.316148</td>\n",
              "    </tr>\n",
              "    <tr>\n",
              "      <th>17</th>\n",
              "      <td>1.083339e+06</td>\n",
              "      <td>15103.255501</td>\n",
              "      <td>336.757113</td>\n",
              "      <td>2457.487955</td>\n",
              "    </tr>\n",
              "    <tr>\n",
              "      <th>19</th>\n",
              "      <td>7.637694e+05</td>\n",
              "      <td>18275.155646</td>\n",
              "      <td>175.853510</td>\n",
              "      <td>1757.895727</td>\n",
              "    </tr>\n",
              "    <tr>\n",
              "      <th>20</th>\n",
              "      <td>1.297482e+06</td>\n",
              "      <td>38469.234415</td>\n",
              "      <td>734.631858</td>\n",
              "      <td>3433.956735</td>\n",
              "    </tr>\n",
              "    <tr>\n",
              "      <th>22</th>\n",
              "      <td>9.210724e+05</td>\n",
              "      <td>34847.271625</td>\n",
              "      <td>490.200055</td>\n",
              "      <td>2870.315360</td>\n",
              "    </tr>\n",
              "    <tr>\n",
              "      <th>23</th>\n",
              "      <td>1.158998e+06</td>\n",
              "      <td>36769.260607</td>\n",
              "      <td>795.539532</td>\n",
              "      <td>3334.783329</td>\n",
              "    </tr>\n",
              "    <tr>\n",
              "      <th>24</th>\n",
              "      <td>1.176115e+06</td>\n",
              "      <td>36080.916061</td>\n",
              "      <td>430.765873</td>\n",
              "      <td>3179.880138</td>\n",
              "    </tr>\n",
              "    <tr>\n",
              "      <th>25</th>\n",
              "      <td>1.177876e+06</td>\n",
              "      <td>14672.774834</td>\n",
              "      <td>399.787049</td>\n",
              "      <td>3772.898160</td>\n",
              "    </tr>\n",
              "    <tr>\n",
              "      <th>26</th>\n",
              "      <td>7.238494e+05</td>\n",
              "      <td>15489.348459</td>\n",
              "      <td>239.201440</td>\n",
              "      <td>965.924481</td>\n",
              "    </tr>\n",
              "    <tr>\n",
              "      <th>27</th>\n",
              "      <td>9.466088e+05</td>\n",
              "      <td>14889.859532</td>\n",
              "      <td>307.484950</td>\n",
              "      <td>1604.532887</td>\n",
              "    </tr>\n",
              "    <tr>\n",
              "      <th>28</th>\n",
              "      <td>1.567604e+06</td>\n",
              "      <td>39549.261230</td>\n",
              "      <td>1249.734409</td>\n",
              "      <td>2262.019625</td>\n",
              "    </tr>\n",
              "    <tr>\n",
              "      <th>29</th>\n",
              "      <td>8.399390e+05</td>\n",
              "      <td>69324.079498</td>\n",
              "      <td>490.682008</td>\n",
              "      <td>1466.188285</td>\n",
              "    </tr>\n",
              "  </tbody>\n",
              "</table>\n",
              "</div>\n",
              "      <button class=\"colab-df-convert\" onclick=\"convertToInteractive('df-e8d2a097-3445-4573-9c88-7ccab9958876')\"\n",
              "              title=\"Convert this dataframe to an interactive table.\"\n",
              "              style=\"display:none;\">\n",
              "        \n",
              "  <svg xmlns=\"http://www.w3.org/2000/svg\" height=\"24px\"viewBox=\"0 0 24 24\"\n",
              "       width=\"24px\">\n",
              "    <path d=\"M0 0h24v24H0V0z\" fill=\"none\"/>\n",
              "    <path d=\"M18.56 5.44l.94 2.06.94-2.06 2.06-.94-2.06-.94-.94-2.06-.94 2.06-2.06.94zm-11 1L8.5 8.5l.94-2.06 2.06-.94-2.06-.94L8.5 2.5l-.94 2.06-2.06.94zm10 10l.94 2.06.94-2.06 2.06-.94-2.06-.94-.94-2.06-.94 2.06-2.06.94z\"/><path d=\"M17.41 7.96l-1.37-1.37c-.4-.4-.92-.59-1.43-.59-.52 0-1.04.2-1.43.59L10.3 9.45l-7.72 7.72c-.78.78-.78 2.05 0 2.83L4 21.41c.39.39.9.59 1.41.59.51 0 1.02-.2 1.41-.59l7.78-7.78 2.81-2.81c.8-.78.8-2.07 0-2.86zM5.41 20L4 18.59l7.72-7.72 1.47 1.35L5.41 20z\"/>\n",
              "  </svg>\n",
              "      </button>\n",
              "      \n",
              "  <style>\n",
              "    .colab-df-container {\n",
              "      display:flex;\n",
              "      flex-wrap:wrap;\n",
              "      gap: 12px;\n",
              "    }\n",
              "\n",
              "    .colab-df-convert {\n",
              "      background-color: #E8F0FE;\n",
              "      border: none;\n",
              "      border-radius: 50%;\n",
              "      cursor: pointer;\n",
              "      display: none;\n",
              "      fill: #1967D2;\n",
              "      height: 32px;\n",
              "      padding: 0 0 0 0;\n",
              "      width: 32px;\n",
              "    }\n",
              "\n",
              "    .colab-df-convert:hover {\n",
              "      background-color: #E2EBFA;\n",
              "      box-shadow: 0px 1px 2px rgba(60, 64, 67, 0.3), 0px 1px 3px 1px rgba(60, 64, 67, 0.15);\n",
              "      fill: #174EA6;\n",
              "    }\n",
              "\n",
              "    [theme=dark] .colab-df-convert {\n",
              "      background-color: #3B4455;\n",
              "      fill: #D2E3FC;\n",
              "    }\n",
              "\n",
              "    [theme=dark] .colab-df-convert:hover {\n",
              "      background-color: #434B5C;\n",
              "      box-shadow: 0px 1px 3px 1px rgba(0, 0, 0, 0.15);\n",
              "      filter: drop-shadow(0px 1px 2px rgba(0, 0, 0, 0.3));\n",
              "      fill: #FFFFFF;\n",
              "    }\n",
              "  </style>\n",
              "\n",
              "      <script>\n",
              "        const buttonEl =\n",
              "          document.querySelector('#df-e8d2a097-3445-4573-9c88-7ccab9958876 button.colab-df-convert');\n",
              "        buttonEl.style.display =\n",
              "          google.colab.kernel.accessAllowed ? 'block' : 'none';\n",
              "\n",
              "        async function convertToInteractive(key) {\n",
              "          const element = document.querySelector('#df-e8d2a097-3445-4573-9c88-7ccab9958876');\n",
              "          const dataTable =\n",
              "            await google.colab.kernel.invokeFunction('convertToInteractive',\n",
              "                                                     [key], {});\n",
              "          if (!dataTable) return;\n",
              "\n",
              "          const docLinkHtml = 'Like what you see? Visit the ' +\n",
              "            '<a target=\"_blank\" href=https://colab.research.google.com/notebooks/data_table.ipynb>data table notebook</a>'\n",
              "            + ' to learn more about interactive tables.';\n",
              "          element.innerHTML = '';\n",
              "          dataTable['output_type'] = 'display_data';\n",
              "          await google.colab.output.renderOutput(dataTable, element);\n",
              "          const docLink = document.createElement('div');\n",
              "          docLink.innerHTML = docLinkHtml;\n",
              "          element.appendChild(docLink);\n",
              "        }\n",
              "      </script>\n",
              "    </div>\n",
              "  </div>\n",
              "  "
            ]
          },
          "metadata": {},
          "execution_count": 22
        }
      ]
    },
    {
      "cell_type": "markdown",
      "metadata": {
        "id": "PCZue6aR49AV"
      },
      "source": [
        "## 5. 전처리가 끝난 결과물을 csv로 저장 "
      ]
    },
    {
      "cell_type": "code",
      "source": [
        "df.head()"
      ],
      "metadata": {
        "colab": {
          "base_uri": "https://localhost:8080/",
          "height": 791
        },
        "id": "GEtOTXxyr3gU",
        "outputId": "0ca8d25a-9a4e-4381-8799-4e3653a0f167"
      },
      "execution_count": null,
      "outputs": [
        {
          "output_type": "execute_result",
          "data": {
            "text/plain": [
              "      video_id                                             title  \\\n",
              "0  uq5LClQN3cE                                       안녕하세요 보겸입니다   \n",
              "1  I-ZbZCHsHD0                                부락토스의 계획 [총몇명 프리퀄]   \n",
              "2  9d7jNUjBoss                                   평생 반성하면서 살겠습니다.   \n",
              "3  3pI_L3-sMVg                              안녕하세요 꽈뚜룹입니다.   \n",
              "4  zrsBjYukE8s  박진영 (J.Y. Park) When We Disco (Duet with 선미) M/V   \n",
              "\n",
              "          publishedAt                 channelId       channelTitle  \\\n",
              "0 2020-08-09 09:32:48  UCu9BCtGIEr73LXZsKmoujKw              보겸 BK   \n",
              "1 2020-08-12 09:00:08  UCRuSxVu4iqTK5kCh90ntAgA                총몇명   \n",
              "2 2020-08-10 09:54:13  UCMVC92EOs9yDJG5JS-CMesQ        양팡 YangPang   \n",
              "3 2020-08-11 15:00:58  UCkQCwnkQfgSuPTTnw_Y7v7w      꽈뚜룹 Quaddurup   \n",
              "4 2020-08-11 09:00:13  UCaO6TYtlC8U5ttz62hTrZgg  JYP Entertainment   \n",
              "\n",
              "   categoryId trending_date  \\\n",
              "0          24    2020-08-12   \n",
              "1           1    2020-08-12   \n",
              "2          22    2020-08-12   \n",
              "3          24    2020-08-12   \n",
              "4          10    2020-08-12   \n",
              "\n",
              "                                                tags  view_count   likes  \\\n",
              "0                                          보겸|bokyem     5947503   53326   \n",
              "1                총몇명|재밌는 만화|부락토스|루시퍼|총몇명 프리퀄|총몇명 스토리      963384   28244   \n",
              "2  양팡|양팡유튜브|팡튜브|가족시트콤|양팡가족|양팡가족시트콤|양팡언니|현실남매|현실자매...     2950885   17974   \n",
              "3  꽈뚜룹|한국여행기|quaddurup|뚜룹이|korea|southkorea|vlog|...     1743374   36893   \n",
              "4  JYP Entertainment|JYP|J.Y.Park|JYPark|박진영|선미|S...     3433885  353337   \n",
              "\n",
              "   dislikes  comment_count  comments_disabled  ratings_disabled  \\\n",
              "0    105756         139946              False             False   \n",
              "1       494           3339              False             False   \n",
              "2     68898          50688              False             False   \n",
              "3      1798           8751              False             False   \n",
              "4      9763          23405              False             False   \n",
              "\n",
              "                                         description     category_name  \n",
              "0                                                NaN     Entertainment  \n",
              "1  오늘도 정말 감사드립니다!!총몇명 스튜디오 - 총몇명, 십제곱, 5G민, MOVE혁...  Film & Animation  \n",
              "2                                                NaN    People & Blogs  \n",
              "3                앞으로 좀 더 깔끔한 영상제작 약속 드리겠습니다.늘 감사드립니다     Entertainment  \n",
              "4  MelOn http://kko.to/TWyXd7zYjSpotify https://s...             Music  "
            ],
            "text/html": [
              "\n",
              "  <div id=\"df-48c75d5c-4bb7-46dd-81ce-a630dabdc6b0\">\n",
              "    <div class=\"colab-df-container\">\n",
              "      <div>\n",
              "<style scoped>\n",
              "    .dataframe tbody tr th:only-of-type {\n",
              "        vertical-align: middle;\n",
              "    }\n",
              "\n",
              "    .dataframe tbody tr th {\n",
              "        vertical-align: top;\n",
              "    }\n",
              "\n",
              "    .dataframe thead th {\n",
              "        text-align: right;\n",
              "    }\n",
              "</style>\n",
              "<table border=\"1\" class=\"dataframe\">\n",
              "  <thead>\n",
              "    <tr style=\"text-align: right;\">\n",
              "      <th></th>\n",
              "      <th>video_id</th>\n",
              "      <th>title</th>\n",
              "      <th>publishedAt</th>\n",
              "      <th>channelId</th>\n",
              "      <th>channelTitle</th>\n",
              "      <th>categoryId</th>\n",
              "      <th>trending_date</th>\n",
              "      <th>tags</th>\n",
              "      <th>view_count</th>\n",
              "      <th>likes</th>\n",
              "      <th>dislikes</th>\n",
              "      <th>comment_count</th>\n",
              "      <th>comments_disabled</th>\n",
              "      <th>ratings_disabled</th>\n",
              "      <th>description</th>\n",
              "      <th>category_name</th>\n",
              "    </tr>\n",
              "  </thead>\n",
              "  <tbody>\n",
              "    <tr>\n",
              "      <th>0</th>\n",
              "      <td>uq5LClQN3cE</td>\n",
              "      <td>안녕하세요 보겸입니다</td>\n",
              "      <td>2020-08-09 09:32:48</td>\n",
              "      <td>UCu9BCtGIEr73LXZsKmoujKw</td>\n",
              "      <td>보겸 BK</td>\n",
              "      <td>24</td>\n",
              "      <td>2020-08-12</td>\n",
              "      <td>보겸|bokyem</td>\n",
              "      <td>5947503</td>\n",
              "      <td>53326</td>\n",
              "      <td>105756</td>\n",
              "      <td>139946</td>\n",
              "      <td>False</td>\n",
              "      <td>False</td>\n",
              "      <td>NaN</td>\n",
              "      <td>Entertainment</td>\n",
              "    </tr>\n",
              "    <tr>\n",
              "      <th>1</th>\n",
              "      <td>I-ZbZCHsHD0</td>\n",
              "      <td>부락토스의 계획 [총몇명 프리퀄]</td>\n",
              "      <td>2020-08-12 09:00:08</td>\n",
              "      <td>UCRuSxVu4iqTK5kCh90ntAgA</td>\n",
              "      <td>총몇명</td>\n",
              "      <td>1</td>\n",
              "      <td>2020-08-12</td>\n",
              "      <td>총몇명|재밌는 만화|부락토스|루시퍼|총몇명 프리퀄|총몇명 스토리</td>\n",
              "      <td>963384</td>\n",
              "      <td>28244</td>\n",
              "      <td>494</td>\n",
              "      <td>3339</td>\n",
              "      <td>False</td>\n",
              "      <td>False</td>\n",
              "      <td>오늘도 정말 감사드립니다!!총몇명 스튜디오 - 총몇명, 십제곱, 5G민, MOVE혁...</td>\n",
              "      <td>Film &amp; Animation</td>\n",
              "    </tr>\n",
              "    <tr>\n",
              "      <th>2</th>\n",
              "      <td>9d7jNUjBoss</td>\n",
              "      <td>평생 반성하면서 살겠습니다.</td>\n",
              "      <td>2020-08-10 09:54:13</td>\n",
              "      <td>UCMVC92EOs9yDJG5JS-CMesQ</td>\n",
              "      <td>양팡 YangPang</td>\n",
              "      <td>22</td>\n",
              "      <td>2020-08-12</td>\n",
              "      <td>양팡|양팡유튜브|팡튜브|가족시트콤|양팡가족|양팡가족시트콤|양팡언니|현실남매|현실자매...</td>\n",
              "      <td>2950885</td>\n",
              "      <td>17974</td>\n",
              "      <td>68898</td>\n",
              "      <td>50688</td>\n",
              "      <td>False</td>\n",
              "      <td>False</td>\n",
              "      <td>NaN</td>\n",
              "      <td>People &amp; Blogs</td>\n",
              "    </tr>\n",
              "    <tr>\n",
              "      <th>3</th>\n",
              "      <td>3pI_L3-sMVg</td>\n",
              "      <td>안녕하세요 꽈뚜룹입니다.</td>\n",
              "      <td>2020-08-11 15:00:58</td>\n",
              "      <td>UCkQCwnkQfgSuPTTnw_Y7v7w</td>\n",
              "      <td>꽈뚜룹 Quaddurup</td>\n",
              "      <td>24</td>\n",
              "      <td>2020-08-12</td>\n",
              "      <td>꽈뚜룹|한국여행기|quaddurup|뚜룹이|korea|southkorea|vlog|...</td>\n",
              "      <td>1743374</td>\n",
              "      <td>36893</td>\n",
              "      <td>1798</td>\n",
              "      <td>8751</td>\n",
              "      <td>False</td>\n",
              "      <td>False</td>\n",
              "      <td>앞으로 좀 더 깔끔한 영상제작 약속 드리겠습니다.늘 감사드립니다</td>\n",
              "      <td>Entertainment</td>\n",
              "    </tr>\n",
              "    <tr>\n",
              "      <th>4</th>\n",
              "      <td>zrsBjYukE8s</td>\n",
              "      <td>박진영 (J.Y. Park) When We Disco (Duet with 선미) M/V</td>\n",
              "      <td>2020-08-11 09:00:13</td>\n",
              "      <td>UCaO6TYtlC8U5ttz62hTrZgg</td>\n",
              "      <td>JYP Entertainment</td>\n",
              "      <td>10</td>\n",
              "      <td>2020-08-12</td>\n",
              "      <td>JYP Entertainment|JYP|J.Y.Park|JYPark|박진영|선미|S...</td>\n",
              "      <td>3433885</td>\n",
              "      <td>353337</td>\n",
              "      <td>9763</td>\n",
              "      <td>23405</td>\n",
              "      <td>False</td>\n",
              "      <td>False</td>\n",
              "      <td>MelOn http://kko.to/TWyXd7zYjSpotify https://s...</td>\n",
              "      <td>Music</td>\n",
              "    </tr>\n",
              "  </tbody>\n",
              "</table>\n",
              "</div>\n",
              "      <button class=\"colab-df-convert\" onclick=\"convertToInteractive('df-48c75d5c-4bb7-46dd-81ce-a630dabdc6b0')\"\n",
              "              title=\"Convert this dataframe to an interactive table.\"\n",
              "              style=\"display:none;\">\n",
              "        \n",
              "  <svg xmlns=\"http://www.w3.org/2000/svg\" height=\"24px\"viewBox=\"0 0 24 24\"\n",
              "       width=\"24px\">\n",
              "    <path d=\"M0 0h24v24H0V0z\" fill=\"none\"/>\n",
              "    <path d=\"M18.56 5.44l.94 2.06.94-2.06 2.06-.94-2.06-.94-.94-2.06-.94 2.06-2.06.94zm-11 1L8.5 8.5l.94-2.06 2.06-.94-2.06-.94L8.5 2.5l-.94 2.06-2.06.94zm10 10l.94 2.06.94-2.06 2.06-.94-2.06-.94-.94-2.06-.94 2.06-2.06.94z\"/><path d=\"M17.41 7.96l-1.37-1.37c-.4-.4-.92-.59-1.43-.59-.52 0-1.04.2-1.43.59L10.3 9.45l-7.72 7.72c-.78.78-.78 2.05 0 2.83L4 21.41c.39.39.9.59 1.41.59.51 0 1.02-.2 1.41-.59l7.78-7.78 2.81-2.81c.8-.78.8-2.07 0-2.86zM5.41 20L4 18.59l7.72-7.72 1.47 1.35L5.41 20z\"/>\n",
              "  </svg>\n",
              "      </button>\n",
              "      \n",
              "  <style>\n",
              "    .colab-df-container {\n",
              "      display:flex;\n",
              "      flex-wrap:wrap;\n",
              "      gap: 12px;\n",
              "    }\n",
              "\n",
              "    .colab-df-convert {\n",
              "      background-color: #E8F0FE;\n",
              "      border: none;\n",
              "      border-radius: 50%;\n",
              "      cursor: pointer;\n",
              "      display: none;\n",
              "      fill: #1967D2;\n",
              "      height: 32px;\n",
              "      padding: 0 0 0 0;\n",
              "      width: 32px;\n",
              "    }\n",
              "\n",
              "    .colab-df-convert:hover {\n",
              "      background-color: #E2EBFA;\n",
              "      box-shadow: 0px 1px 2px rgba(60, 64, 67, 0.3), 0px 1px 3px 1px rgba(60, 64, 67, 0.15);\n",
              "      fill: #174EA6;\n",
              "    }\n",
              "\n",
              "    [theme=dark] .colab-df-convert {\n",
              "      background-color: #3B4455;\n",
              "      fill: #D2E3FC;\n",
              "    }\n",
              "\n",
              "    [theme=dark] .colab-df-convert:hover {\n",
              "      background-color: #434B5C;\n",
              "      box-shadow: 0px 1px 3px 1px rgba(0, 0, 0, 0.15);\n",
              "      filter: drop-shadow(0px 1px 2px rgba(0, 0, 0, 0.3));\n",
              "      fill: #FFFFFF;\n",
              "    }\n",
              "  </style>\n",
              "\n",
              "      <script>\n",
              "        const buttonEl =\n",
              "          document.querySelector('#df-48c75d5c-4bb7-46dd-81ce-a630dabdc6b0 button.colab-df-convert');\n",
              "        buttonEl.style.display =\n",
              "          google.colab.kernel.accessAllowed ? 'block' : 'none';\n",
              "\n",
              "        async function convertToInteractive(key) {\n",
              "          const element = document.querySelector('#df-48c75d5c-4bb7-46dd-81ce-a630dabdc6b0');\n",
              "          const dataTable =\n",
              "            await google.colab.kernel.invokeFunction('convertToInteractive',\n",
              "                                                     [key], {});\n",
              "          if (!dataTable) return;\n",
              "\n",
              "          const docLinkHtml = 'Like what you see? Visit the ' +\n",
              "            '<a target=\"_blank\" href=https://colab.research.google.com/notebooks/data_table.ipynb>data table notebook</a>'\n",
              "            + ' to learn more about interactive tables.';\n",
              "          element.innerHTML = '';\n",
              "          dataTable['output_type'] = 'display_data';\n",
              "          await google.colab.output.renderOutput(dataTable, element);\n",
              "          const docLink = document.createElement('div');\n",
              "          docLink.innerHTML = docLinkHtml;\n",
              "          element.appendChild(docLink);\n",
              "        }\n",
              "      </script>\n",
              "    </div>\n",
              "  </div>\n",
              "  "
            ]
          },
          "metadata": {},
          "execution_count": 46
        }
      ]
    },
    {
      "cell_type": "code",
      "execution_count": null,
      "metadata": {
        "id": "1uWQcYjpdNTF"
      },
      "outputs": [],
      "source": [
        "df.to_csv('/content/drive/MyDrive/EDA/data0712/youtube_0717.csv',index=False)"
      ]
    },
    {
      "cell_type": "code",
      "source": [
        "df_unique.to_csv('/content/drive/MyDrive/EDA/data0712/youtube_unique_0717.csv',index=False)"
      ],
      "metadata": {
        "id": "fDp17b8jqzIi"
      },
      "execution_count": null,
      "outputs": []
    },
    {
      "cell_type": "markdown",
      "metadata": {
        "id": "bpjT0em3dUoB"
      },
      "source": [
        "\n",
        "\n",
        "---\n",
        "\n",
        "\n",
        "\n",
        "---\n",
        "\n"
      ]
    },
    {
      "cell_type": "markdown",
      "metadata": {
        "id": "Nzg7wvXj2fb0"
      },
      "source": [
        "수고하셨습니다."
      ]
    }
  ],
  "metadata": {
    "colab": {
      "collapsed_sections": [],
      "name": "전처리",
      "provenance": [],
      "toc_visible": true
    },
    "kernelspec": {
      "display_name": "Python 3",
      "language": "python",
      "name": "python3"
    },
    "language_info": {
      "codemirror_mode": {
        "name": "ipython",
        "version": 3
      },
      "file_extension": ".py",
      "mimetype": "text/x-python",
      "name": "python",
      "nbconvert_exporter": "python",
      "pygments_lexer": "ipython3",
      "version": "3.8.3"
    }
  },
  "nbformat": 4,
  "nbformat_minor": 0
}